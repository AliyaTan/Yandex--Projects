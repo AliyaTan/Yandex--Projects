{
 "cells": [
  {
   "cell_type": "markdown",
   "metadata": {
    "id": "ILPaUNSYaceW"
   },
   "source": [
    "# Тестовое задание"
   ]
  },
  {
   "cell_type": "markdown",
   "metadata": {},
   "source": [
    "Задача exploration data analysis. Часто, когда мы запустили новую фичу в продукте или запускаем новый продукт целиком мы можем не знать, как пользователи внутри приложения ведут себя. Задача eda заключается в исследовании данных и построении выводов. Вам предлагается исследовать заказы и найти интересные факты, а также ответить на конкретные вопросы бизнеса. Прелесть этого задания в том, что в данных могут быть проблемы, обрати на это внимание - часто во время учебы мы получаем готовые результаты - хорошие обработанные файлы, однако на практике все совсем не так, данные могут быть действительно “грязными”.\n"
   ]
  },
  {
   "cell_type": "markdown",
   "metadata": {
    "id": "NEF9w94UaceZ"
   },
   "source": [
    "В папке с заданием два датасета - data_orders - содержит выборку данных по заказам клиентов и включает такие колонки как:\n",
    "* order_datetime -  время заказа\n",
    "* order_gk - номер заказа\n",
    "* order_status_key - статус (4 - отменен клиентом, 9 - отменен системой (reject))\n",
    "* is_courier_assigned_key - был ли назначен курьер\n",
    "* cancellations_time_in_seconds - сколько секунд прошло до отмены\n",
    "\n",
    "data_offers - содержит пары номер заказа - ID оффера, который был предложен курьеру по данному заказу.\n"
   ]
  },
  {
   "cell_type": "markdown",
   "metadata": {
    "id": "H_k5WQmvacea"
   },
   "source": [
    "В момент когда клиент нажимает на кнопку \"Заказать\" в приложении, система матчинга подыскивает наиболее релевантых курьеров и предлагаем им заказ. В задании предлагается исследовать некоторые метрики неудачных заказов"
   ]
  },
  {
   "cell_type": "markdown",
   "metadata": {
    "id": "crHjBoNpaceb"
   },
   "source": [
    "Задание является проверочным и не имеет ничего общего с реальной работой курьеров"
   ]
  },
  {
   "cell_type": "markdown",
   "metadata": {
    "id": "5v-efhQwaceb"
   },
   "source": [
    "## Подготовка данных, проверка выбросов, аномалий"
   ]
  },
  {
   "cell_type": "code",
   "execution_count": 1,
   "metadata": {
    "id": "0hmCtyHgaceb",
    "scrolled": true
   },
   "outputs": [],
   "source": [
    "## CODE HERE\n",
    "import numpy as np\n",
    "import pandas as pd\n",
    "import seaborn as sns\n",
    "import matplotlib.pyplot as plt\n",
    "import math\n",
    "%matplotlib inline\n",
    "\n",
    "import warnings\n",
    "warnings.simplefilter(action='ignore')"
   ]
  },
  {
   "cell_type": "code",
   "execution_count": 2,
   "metadata": {
    "id": "3Jty1ZGWacec",
    "scrolled": false
   },
   "outputs": [
    {
     "data": {
      "text/html": [
       "<div>\n",
       "<style scoped>\n",
       "    .dataframe tbody tr th:only-of-type {\n",
       "        vertical-align: middle;\n",
       "    }\n",
       "\n",
       "    .dataframe tbody tr th {\n",
       "        vertical-align: top;\n",
       "    }\n",
       "\n",
       "    .dataframe thead th {\n",
       "        text-align: right;\n",
       "    }\n",
       "</style>\n",
       "<table border=\"1\" class=\"dataframe\">\n",
       "  <thead>\n",
       "    <tr style=\"text-align: right;\">\n",
       "      <th></th>\n",
       "      <th>order_datetime</th>\n",
       "      <th>order_gk</th>\n",
       "      <th>order_status_key</th>\n",
       "      <th>is_courier_assigned_key</th>\n",
       "      <th>cancellations_time_in_seconds</th>\n",
       "    </tr>\n",
       "  </thead>\n",
       "  <tbody>\n",
       "    <tr>\n",
       "      <th>0</th>\n",
       "      <td>2020-07-22 18:08:07</td>\n",
       "      <td>3000583041974</td>\n",
       "      <td>4</td>\n",
       "      <td>1</td>\n",
       "      <td>198.0</td>\n",
       "    </tr>\n",
       "    <tr>\n",
       "      <th>1</th>\n",
       "      <td>2020-07-22 20:57:32</td>\n",
       "      <td>3000583116437</td>\n",
       "      <td>4</td>\n",
       "      <td>0</td>\n",
       "      <td>128.0</td>\n",
       "    </tr>\n",
       "    <tr>\n",
       "      <th>2</th>\n",
       "      <td>2020-07-22 12:07:50</td>\n",
       "      <td>3000582891479</td>\n",
       "      <td>4</td>\n",
       "      <td>1</td>\n",
       "      <td>46.0</td>\n",
       "    </tr>\n",
       "    <tr>\n",
       "      <th>3</th>\n",
       "      <td>2020-07-22 13:50:20</td>\n",
       "      <td>3000582941169</td>\n",
       "      <td>4</td>\n",
       "      <td>1</td>\n",
       "      <td>62.0</td>\n",
       "    </tr>\n",
       "    <tr>\n",
       "      <th>4</th>\n",
       "      <td>2020-07-22 21:24:45</td>\n",
       "      <td>3000583140877</td>\n",
       "      <td>9</td>\n",
       "      <td>0</td>\n",
       "      <td>NaN</td>\n",
       "    </tr>\n",
       "    <tr>\n",
       "      <th>5</th>\n",
       "      <td>2020-07-22 21:21:23</td>\n",
       "      <td>3000583117054</td>\n",
       "      <td>9</td>\n",
       "      <td>0</td>\n",
       "      <td>NaN</td>\n",
       "    </tr>\n",
       "    <tr>\n",
       "      <th>6</th>\n",
       "      <td>2020-07-22 07:58:15</td>\n",
       "      <td>3000582791789</td>\n",
       "      <td>9</td>\n",
       "      <td>0</td>\n",
       "      <td>NaN</td>\n",
       "    </tr>\n",
       "    <tr>\n",
       "      <th>7</th>\n",
       "      <td>2020-07-22 07:53:46</td>\n",
       "      <td>3000582791562</td>\n",
       "      <td>9</td>\n",
       "      <td>0</td>\n",
       "      <td>NaN</td>\n",
       "    </tr>\n",
       "    <tr>\n",
       "      <th>8</th>\n",
       "      <td>2020-07-22 08:53:01</td>\n",
       "      <td>3000582817606</td>\n",
       "      <td>9</td>\n",
       "      <td>0</td>\n",
       "      <td>NaN</td>\n",
       "    </tr>\n",
       "    <tr>\n",
       "      <th>9</th>\n",
       "      <td>2020-07-22 06:33:52</td>\n",
       "      <td>3000582765616</td>\n",
       "      <td>4</td>\n",
       "      <td>0</td>\n",
       "      <td>78.0</td>\n",
       "    </tr>\n",
       "  </tbody>\n",
       "</table>\n",
       "</div>"
      ],
      "text/plain": [
       "        order_datetime       order_gk  order_status_key  \\\n",
       "0  2020-07-22 18:08:07  3000583041974                 4   \n",
       "1  2020-07-22 20:57:32  3000583116437                 4   \n",
       "2  2020-07-22 12:07:50  3000582891479                 4   \n",
       "3  2020-07-22 13:50:20  3000582941169                 4   \n",
       "4  2020-07-22 21:24:45  3000583140877                 9   \n",
       "5  2020-07-22 21:21:23  3000583117054                 9   \n",
       "6  2020-07-22 07:58:15  3000582791789                 9   \n",
       "7  2020-07-22 07:53:46  3000582791562                 9   \n",
       "8  2020-07-22 08:53:01  3000582817606                 9   \n",
       "9  2020-07-22 06:33:52  3000582765616                 4   \n",
       "\n",
       "   is_courier_assigned_key  cancellations_time_in_seconds  \n",
       "0                        1                          198.0  \n",
       "1                        0                          128.0  \n",
       "2                        1                           46.0  \n",
       "3                        1                           62.0  \n",
       "4                        0                            NaN  \n",
       "5                        0                            NaN  \n",
       "6                        0                            NaN  \n",
       "7                        0                            NaN  \n",
       "8                        0                            NaN  \n",
       "9                        0                           78.0  "
      ]
     },
     "execution_count": 2,
     "metadata": {},
     "output_type": "execute_result"
    }
   ],
   "source": [
    "#открываем файл data_orders и смотрим св-ва датасета\n",
    "#опишите основные статистики датасета и его особенности\n",
    "df_orders = pd.read_csv('data_orders.csv')\n",
    "#далее ваш код\n",
    "df_orders.head(10)"
   ]
  },
  {
   "cell_type": "markdown",
   "metadata": {},
   "source": [
    "С первого взгляда на датасет, сразу видно много пропусков в столбце cancellations_time_in_seconds - сколько секунд прошло до отмены. А так же можно заметить, что эти пропуски соответствуют статусу - 9- отменен системой. Проверим таблицу на пропуски и дубликаты."
   ]
  },
  {
   "cell_type": "code",
   "execution_count": 3,
   "metadata": {
    "scrolled": true
   },
   "outputs": [
    {
     "data": {
      "text/html": [
       "<div>\n",
       "<style scoped>\n",
       "    .dataframe tbody tr th:only-of-type {\n",
       "        vertical-align: middle;\n",
       "    }\n",
       "\n",
       "    .dataframe tbody tr th {\n",
       "        vertical-align: top;\n",
       "    }\n",
       "\n",
       "    .dataframe thead th {\n",
       "        text-align: right;\n",
       "    }\n",
       "</style>\n",
       "<table border=\"1\" class=\"dataframe\">\n",
       "  <thead>\n",
       "    <tr style=\"text-align: right;\">\n",
       "      <th></th>\n",
       "      <th>order_datetime</th>\n",
       "      <th>order_gk</th>\n",
       "      <th>order_status_key</th>\n",
       "      <th>is_courier_assigned_key</th>\n",
       "      <th>cancellations_time_in_seconds</th>\n",
       "    </tr>\n",
       "  </thead>\n",
       "  <tbody>\n",
       "    <tr>\n",
       "      <th>0</th>\n",
       "      <td>2020-07-22 18:08:07</td>\n",
       "      <td>3000583041974</td>\n",
       "      <td>4</td>\n",
       "      <td>1</td>\n",
       "      <td>198.0</td>\n",
       "    </tr>\n",
       "    <tr>\n",
       "      <th>1</th>\n",
       "      <td>2020-07-22 20:57:32</td>\n",
       "      <td>3000583116437</td>\n",
       "      <td>4</td>\n",
       "      <td>0</td>\n",
       "      <td>128.0</td>\n",
       "    </tr>\n",
       "    <tr>\n",
       "      <th>2</th>\n",
       "      <td>2020-07-22 12:07:50</td>\n",
       "      <td>3000582891479</td>\n",
       "      <td>4</td>\n",
       "      <td>1</td>\n",
       "      <td>46.0</td>\n",
       "    </tr>\n",
       "    <tr>\n",
       "      <th>3</th>\n",
       "      <td>2020-07-22 13:50:20</td>\n",
       "      <td>3000582941169</td>\n",
       "      <td>4</td>\n",
       "      <td>1</td>\n",
       "      <td>62.0</td>\n",
       "    </tr>\n",
       "    <tr>\n",
       "      <th>4</th>\n",
       "      <td>2020-07-22 21:24:45</td>\n",
       "      <td>3000583140877</td>\n",
       "      <td>9</td>\n",
       "      <td>0</td>\n",
       "      <td>NaN</td>\n",
       "    </tr>\n",
       "  </tbody>\n",
       "</table>\n",
       "</div>"
      ],
      "text/plain": [
       "        order_datetime       order_gk  order_status_key  \\\n",
       "0  2020-07-22 18:08:07  3000583041974                 4   \n",
       "1  2020-07-22 20:57:32  3000583116437                 4   \n",
       "2  2020-07-22 12:07:50  3000582891479                 4   \n",
       "3  2020-07-22 13:50:20  3000582941169                 4   \n",
       "4  2020-07-22 21:24:45  3000583140877                 9   \n",
       "\n",
       "   is_courier_assigned_key  cancellations_time_in_seconds  \n",
       "0                        1                          198.0  \n",
       "1                        0                          128.0  \n",
       "2                        1                           46.0  \n",
       "3                        1                           62.0  \n",
       "4                        0                            NaN  "
      ]
     },
     "metadata": {},
     "output_type": "display_data"
    },
    {
     "name": "stdout",
     "output_type": "stream",
     "text": [
      "<class 'pandas.core.frame.DataFrame'>\n",
      "RangeIndex: 10716 entries, 0 to 10715\n",
      "Data columns (total 5 columns):\n",
      " #   Column                         Non-Null Count  Dtype  \n",
      "---  ------                         --------------  -----  \n",
      " 0   order_datetime                 10716 non-null  object \n",
      " 1   order_gk                       10716 non-null  int64  \n",
      " 2   order_status_key               10716 non-null  int64  \n",
      " 3   is_courier_assigned_key        10716 non-null  int64  \n",
      " 4   cancellations_time_in_seconds  7307 non-null   float64\n",
      "dtypes: float64(1), int64(3), object(1)\n",
      "memory usage: 418.7+ KB\n",
      "Количество дубликатов - 0\n",
      "Количество NaN  -  order_datetime                      0\n",
      "order_gk                            0\n",
      "order_status_key                    0\n",
      "is_courier_assigned_key             0\n",
      "cancellations_time_in_seconds    3409\n",
      "dtype: int64\n",
      "Количество дубликатов в order_gk -  0\n",
      "Количество NaN в cancellations_time_in_seconds 3409\n",
      "Количество NaN в order_datetime 0\n"
     ]
    },
    {
     "data": {
      "text/html": [
       "<div>\n",
       "<style scoped>\n",
       "    .dataframe tbody tr th:only-of-type {\n",
       "        vertical-align: middle;\n",
       "    }\n",
       "\n",
       "    .dataframe tbody tr th {\n",
       "        vertical-align: top;\n",
       "    }\n",
       "\n",
       "    .dataframe thead th {\n",
       "        text-align: right;\n",
       "    }\n",
       "</style>\n",
       "<table border=\"1\" class=\"dataframe\">\n",
       "  <thead>\n",
       "    <tr style=\"text-align: right;\">\n",
       "      <th></th>\n",
       "      <th>order_gk</th>\n",
       "      <th>order_status_key</th>\n",
       "      <th>is_courier_assigned_key</th>\n",
       "      <th>cancellations_time_in_seconds</th>\n",
       "    </tr>\n",
       "  </thead>\n",
       "  <tbody>\n",
       "    <tr>\n",
       "      <th>count</th>\n",
       "      <td>1.071600e+04</td>\n",
       "      <td>10716.000000</td>\n",
       "      <td>10716.000000</td>\n",
       "      <td>7307.000000</td>\n",
       "    </tr>\n",
       "    <tr>\n",
       "      <th>mean</th>\n",
       "      <td>3.000598e+12</td>\n",
       "      <td>5.590612</td>\n",
       "      <td>0.262598</td>\n",
       "      <td>157.892021</td>\n",
       "    </tr>\n",
       "    <tr>\n",
       "      <th>std</th>\n",
       "      <td>2.396261e+07</td>\n",
       "      <td>2.328845</td>\n",
       "      <td>0.440066</td>\n",
       "      <td>213.366963</td>\n",
       "    </tr>\n",
       "    <tr>\n",
       "      <th>min</th>\n",
       "      <td>3.000550e+12</td>\n",
       "      <td>4.000000</td>\n",
       "      <td>0.000000</td>\n",
       "      <td>3.000000</td>\n",
       "    </tr>\n",
       "    <tr>\n",
       "      <th>25%</th>\n",
       "      <td>3.000583e+12</td>\n",
       "      <td>4.000000</td>\n",
       "      <td>0.000000</td>\n",
       "      <td>45.000000</td>\n",
       "    </tr>\n",
       "    <tr>\n",
       "      <th>50%</th>\n",
       "      <td>3.000595e+12</td>\n",
       "      <td>4.000000</td>\n",
       "      <td>0.000000</td>\n",
       "      <td>98.000000</td>\n",
       "    </tr>\n",
       "    <tr>\n",
       "      <th>75%</th>\n",
       "      <td>3.000623e+12</td>\n",
       "      <td>9.000000</td>\n",
       "      <td>1.000000</td>\n",
       "      <td>187.500000</td>\n",
       "    </tr>\n",
       "    <tr>\n",
       "      <th>max</th>\n",
       "      <td>3.000633e+12</td>\n",
       "      <td>9.000000</td>\n",
       "      <td>1.000000</td>\n",
       "      <td>4303.000000</td>\n",
       "    </tr>\n",
       "  </tbody>\n",
       "</table>\n",
       "</div>"
      ],
      "text/plain": [
       "           order_gk  order_status_key  is_courier_assigned_key  \\\n",
       "count  1.071600e+04      10716.000000             10716.000000   \n",
       "mean   3.000598e+12          5.590612                 0.262598   \n",
       "std    2.396261e+07          2.328845                 0.440066   \n",
       "min    3.000550e+12          4.000000                 0.000000   \n",
       "25%    3.000583e+12          4.000000                 0.000000   \n",
       "50%    3.000595e+12          4.000000                 0.000000   \n",
       "75%    3.000623e+12          9.000000                 1.000000   \n",
       "max    3.000633e+12          9.000000                 1.000000   \n",
       "\n",
       "       cancellations_time_in_seconds  \n",
       "count                    7307.000000  \n",
       "mean                      157.892021  \n",
       "std                       213.366963  \n",
       "min                         3.000000  \n",
       "25%                        45.000000  \n",
       "50%                        98.000000  \n",
       "75%                       187.500000  \n",
       "max                      4303.000000  "
      ]
     },
     "metadata": {},
     "output_type": "display_data"
    }
   ],
   "source": [
    "def inspect(df_orders):\n",
    "    display(df_orders.head()) \n",
    "    df_orders.info() \n",
    "    print ('Количество дубликатов -', df_orders.duplicated().sum())\n",
    "    print ('Количество NaN  - ', df_orders.isna().sum())\n",
    "    print ('Количество дубликатов в order_gk - ', df_orders['order_gk'].duplicated().sum())\n",
    "    print('Количество NaN в cancellations_time_in_seconds', df_orders['cancellations_time_in_seconds'].isna().sum())\n",
    "    print('Количество NaN в order_datetime', df_orders['order_datetime'].isna().sum())\n",
    "    numeric_columns=df_orders.describe().columns\n",
    "    display(df_orders.describe())\n",
    "    display()\n",
    "   \n",
    "    return df_orders\n",
    "df = inspect(df_orders)"
   ]
  },
  {
   "cell_type": "markdown",
   "metadata": {},
   "source": [
    "3409пропусков - это 31.2% пропусков по этой колонке датасета. В колонке cancellations_time_in_seconds есть выбросы - max значение-4303, тогда как среднее -213, а медиана 157\n",
    "\n",
    "Изменим тип данных в колонке со временем.\n",
    "Далее проверим общее количество строк в отмененных системой заказах и сопоставим цифру с пропусками."
   ]
  },
  {
   "cell_type": "code",
   "execution_count": 4,
   "metadata": {},
   "outputs": [
    {
     "name": "stdout",
     "output_type": "stream",
     "text": [
      "<class 'pandas.core.frame.DataFrame'>\n",
      "RangeIndex: 10716 entries, 0 to 10715\n",
      "Data columns (total 5 columns):\n",
      " #   Column                         Non-Null Count  Dtype         \n",
      "---  ------                         --------------  -----         \n",
      " 0   order_datetime                 10716 non-null  datetime64[ns]\n",
      " 1   order_gk                       10716 non-null  int64         \n",
      " 2   order_status_key               10716 non-null  int64         \n",
      " 3   is_courier_assigned_key        10716 non-null  int64         \n",
      " 4   cancellations_time_in_seconds  7307 non-null   float64       \n",
      "dtypes: datetime64[ns](1), float64(1), int64(3)\n",
      "memory usage: 418.7 KB\n"
     ]
    }
   ],
   "source": [
    "df_orders['order_datetime'] = pd.to_datetime(df_orders['order_datetime'])\n",
    "df_orders.info()"
   ]
  },
  {
   "cell_type": "code",
   "execution_count": 5,
   "metadata": {},
   "outputs": [
    {
     "name": "stdout",
     "output_type": "stream",
     "text": [
      "Количество NaN в cancellations_time_in_seconds 3409\n",
      "Количество строк в отмененных заказах системой 3409\n"
     ]
    }
   ],
   "source": [
    "gr_9=df_orders.query('order_status_key==9')\n",
    "print('Количество NaN в cancellations_time_in_seconds', gr_9['cancellations_time_in_seconds'].isna().sum())\n",
    "print('Количество строк в отмененных заказах системой',len(gr_9))"
   ]
  },
  {
   "cell_type": "markdown",
   "metadata": {},
   "source": [
    "Получается нет данных сколько секунд прошло до отмены именно в отменных систомой заказах. Это может быть техническая ошибка."
   ]
  },
  {
   "cell_type": "code",
   "execution_count": 6,
   "metadata": {
    "scrolled": true
   },
   "outputs": [
    {
     "name": "stdout",
     "output_type": "stream",
     "text": [
      "Количество NaN в cancellations_time_in_seconds 0\n",
      "Количество строк в заказах отмененных клиентом 7307\n"
     ]
    }
   ],
   "source": [
    "gr_4=df_orders.query('order_status_key==4')\n",
    "print('Количество NaN в cancellations_time_in_seconds', gr_4['cancellations_time_in_seconds'].isna().sum())\n",
    "print('Количество строк в заказах отмененных клиентом',len(gr_4))"
   ]
  },
  {
   "cell_type": "markdown",
   "metadata": {},
   "source": [
    "Посмотрим данные за какой период мы имеем"
   ]
  },
  {
   "cell_type": "code",
   "execution_count": 7,
   "metadata": {
    "scrolled": false
   },
   "outputs": [
    {
     "name": "stdout",
     "output_type": "stream",
     "text": [
      "Время начала исследования 2020-07-22 00:00:02\n",
      "Время конца исследования 2020-07-22 23:59:59\n"
     ]
    }
   ],
   "source": [
    "print('Время начала исследования', df_orders['order_datetime'].min())\n",
    "print('Время конца исследования', df_orders['order_datetime'].max())"
   ]
  },
  {
   "cell_type": "code",
   "execution_count": 8,
   "metadata": {
    "scrolled": true
   },
   "outputs": [
    {
     "data": {
      "text/html": [
       "<div>\n",
       "<style scoped>\n",
       "    .dataframe tbody tr th:only-of-type {\n",
       "        vertical-align: middle;\n",
       "    }\n",
       "\n",
       "    .dataframe tbody tr th {\n",
       "        vertical-align: top;\n",
       "    }\n",
       "\n",
       "    .dataframe thead th {\n",
       "        text-align: right;\n",
       "    }\n",
       "</style>\n",
       "<table border=\"1\" class=\"dataframe\">\n",
       "  <thead>\n",
       "    <tr style=\"text-align: right;\">\n",
       "      <th></th>\n",
       "      <th>order_datetime</th>\n",
       "      <th>order_gk</th>\n",
       "      <th>order_status_key</th>\n",
       "      <th>is_courier_assigned_key</th>\n",
       "      <th>cancellations_time_in_seconds</th>\n",
       "    </tr>\n",
       "  </thead>\n",
       "  <tbody>\n",
       "    <tr>\n",
       "      <th>1158</th>\n",
       "      <td>2020-07-22 16:49:55</td>\n",
       "      <td>3000631256425</td>\n",
       "      <td>9</td>\n",
       "      <td>1</td>\n",
       "      <td>NaN</td>\n",
       "    </tr>\n",
       "    <tr>\n",
       "      <th>6881</th>\n",
       "      <td>2020-07-22 00:44:03</td>\n",
       "      <td>3000630156338</td>\n",
       "      <td>9</td>\n",
       "      <td>1</td>\n",
       "      <td>NaN</td>\n",
       "    </tr>\n",
       "    <tr>\n",
       "      <th>7968</th>\n",
       "      <td>2020-07-22 00:12:02</td>\n",
       "      <td>3000600112433</td>\n",
       "      <td>9</td>\n",
       "      <td>1</td>\n",
       "      <td>NaN</td>\n",
       "    </tr>\n",
       "  </tbody>\n",
       "</table>\n",
       "</div>"
      ],
      "text/plain": [
       "          order_datetime       order_gk  order_status_key  \\\n",
       "1158 2020-07-22 16:49:55  3000631256425                 9   \n",
       "6881 2020-07-22 00:44:03  3000630156338                 9   \n",
       "7968 2020-07-22 00:12:02  3000600112433                 9   \n",
       "\n",
       "      is_courier_assigned_key  cancellations_time_in_seconds  \n",
       "1158                        1                            NaN  \n",
       "6881                        1                            NaN  \n",
       "7968                        1                            NaN  "
      ]
     },
     "execution_count": 8,
     "metadata": {},
     "output_type": "execute_result"
    }
   ],
   "source": [
    "courier_9=gr_9.query('is_courier_assigned_key==1')\n",
    "courier_9"
   ]
  },
  {
   "cell_type": "markdown",
   "metadata": {},
   "source": [
    "**Проверили назначались ли курьеры по заказам отменным системой**. Нашли три заказа не связанные ни временем (имеется в виду вдруг система назначала курьеров на отмененные заказы в определенное время-нет)\n",
    "\n",
    "**Теперь проверим назначались ли курьеры по заказам отменным клиентом**"
   ]
  },
  {
   "cell_type": "code",
   "execution_count": 9,
   "metadata": {
    "scrolled": true
   },
   "outputs": [
    {
     "data": {
      "text/html": [
       "<div>\n",
       "<style scoped>\n",
       "    .dataframe tbody tr th:only-of-type {\n",
       "        vertical-align: middle;\n",
       "    }\n",
       "\n",
       "    .dataframe tbody tr th {\n",
       "        vertical-align: top;\n",
       "    }\n",
       "\n",
       "    .dataframe thead th {\n",
       "        text-align: right;\n",
       "    }\n",
       "</style>\n",
       "<table border=\"1\" class=\"dataframe\">\n",
       "  <thead>\n",
       "    <tr style=\"text-align: right;\">\n",
       "      <th></th>\n",
       "      <th>order_datetime</th>\n",
       "      <th>order_gk</th>\n",
       "      <th>order_status_key</th>\n",
       "      <th>is_courier_assigned_key</th>\n",
       "      <th>cancellations_time_in_seconds</th>\n",
       "    </tr>\n",
       "  </thead>\n",
       "  <tbody>\n",
       "    <tr>\n",
       "      <th>0</th>\n",
       "      <td>2020-07-22 18:08:07</td>\n",
       "      <td>3000583041974</td>\n",
       "      <td>4</td>\n",
       "      <td>1</td>\n",
       "      <td>198.0</td>\n",
       "    </tr>\n",
       "    <tr>\n",
       "      <th>2</th>\n",
       "      <td>2020-07-22 12:07:50</td>\n",
       "      <td>3000582891479</td>\n",
       "      <td>4</td>\n",
       "      <td>1</td>\n",
       "      <td>46.0</td>\n",
       "    </tr>\n",
       "    <tr>\n",
       "      <th>3</th>\n",
       "      <td>2020-07-22 13:50:20</td>\n",
       "      <td>3000582941169</td>\n",
       "      <td>4</td>\n",
       "      <td>1</td>\n",
       "      <td>62.0</td>\n",
       "    </tr>\n",
       "    <tr>\n",
       "      <th>13</th>\n",
       "      <td>2020-07-22 16:55:28</td>\n",
       "      <td>3000583016613</td>\n",
       "      <td>4</td>\n",
       "      <td>1</td>\n",
       "      <td>188.0</td>\n",
       "    </tr>\n",
       "    <tr>\n",
       "      <th>14</th>\n",
       "      <td>2020-07-22 00:59:26</td>\n",
       "      <td>3000582566041</td>\n",
       "      <td>4</td>\n",
       "      <td>1</td>\n",
       "      <td>316.0</td>\n",
       "    </tr>\n",
       "    <tr>\n",
       "      <th>...</th>\n",
       "      <td>...</td>\n",
       "      <td>...</td>\n",
       "      <td>...</td>\n",
       "      <td>...</td>\n",
       "      <td>...</td>\n",
       "    </tr>\n",
       "    <tr>\n",
       "      <th>10701</th>\n",
       "      <td>2020-07-22 23:53:09</td>\n",
       "      <td>3000589481691</td>\n",
       "      <td>4</td>\n",
       "      <td>1</td>\n",
       "      <td>833.0</td>\n",
       "    </tr>\n",
       "    <tr>\n",
       "      <th>10703</th>\n",
       "      <td>2020-07-22 13:15:55</td>\n",
       "      <td>3000599187005</td>\n",
       "      <td>4</td>\n",
       "      <td>1</td>\n",
       "      <td>28.0</td>\n",
       "    </tr>\n",
       "    <tr>\n",
       "      <th>10704</th>\n",
       "      <td>2020-07-22 13:12:51</td>\n",
       "      <td>3000599186936</td>\n",
       "      <td>4</td>\n",
       "      <td>1</td>\n",
       "      <td>59.0</td>\n",
       "    </tr>\n",
       "    <tr>\n",
       "      <th>10713</th>\n",
       "      <td>2020-07-22 13:17:21</td>\n",
       "      <td>3000599187034</td>\n",
       "      <td>4</td>\n",
       "      <td>1</td>\n",
       "      <td>34.0</td>\n",
       "    </tr>\n",
       "    <tr>\n",
       "      <th>10715</th>\n",
       "      <td>2020-07-22 11:49:35</td>\n",
       "      <td>3000592871241</td>\n",
       "      <td>4</td>\n",
       "      <td>1</td>\n",
       "      <td>40.0</td>\n",
       "    </tr>\n",
       "  </tbody>\n",
       "</table>\n",
       "<p>2811 rows × 5 columns</p>\n",
       "</div>"
      ],
      "text/plain": [
       "           order_datetime       order_gk  order_status_key  \\\n",
       "0     2020-07-22 18:08:07  3000583041974                 4   \n",
       "2     2020-07-22 12:07:50  3000582891479                 4   \n",
       "3     2020-07-22 13:50:20  3000582941169                 4   \n",
       "13    2020-07-22 16:55:28  3000583016613                 4   \n",
       "14    2020-07-22 00:59:26  3000582566041                 4   \n",
       "...                   ...            ...               ...   \n",
       "10701 2020-07-22 23:53:09  3000589481691                 4   \n",
       "10703 2020-07-22 13:15:55  3000599187005                 4   \n",
       "10704 2020-07-22 13:12:51  3000599186936                 4   \n",
       "10713 2020-07-22 13:17:21  3000599187034                 4   \n",
       "10715 2020-07-22 11:49:35  3000592871241                 4   \n",
       "\n",
       "       is_courier_assigned_key  cancellations_time_in_seconds  \n",
       "0                            1                          198.0  \n",
       "2                            1                           46.0  \n",
       "3                            1                           62.0  \n",
       "13                           1                          188.0  \n",
       "14                           1                          316.0  \n",
       "...                        ...                            ...  \n",
       "10701                        1                          833.0  \n",
       "10703                        1                           28.0  \n",
       "10704                        1                           59.0  \n",
       "10713                        1                           34.0  \n",
       "10715                        1                           40.0  \n",
       "\n",
       "[2811 rows x 5 columns]"
      ]
     },
     "execution_count": 9,
     "metadata": {},
     "output_type": "execute_result"
    }
   ],
   "source": [
    "courier_4=gr_4.query('is_courier_assigned_key==1')\n",
    "courier_4"
   ]
  },
  {
   "cell_type": "markdown",
   "metadata": {},
   "source": [
    "Из 7307 строк, что есть в группе отменной клиентами - 2811 назначались курьеры - 38.5%\n"
   ]
  },
  {
   "cell_type": "markdown",
   "metadata": {
    "id": "MgQd5Sjtaced"
   },
   "source": [
    "# Рекомендации базовые"
   ]
  },
  {
   "cell_type": "code",
   "execution_count": 10,
   "metadata": {
    "id": "QM7WeiU_aced",
    "scrolled": true
   },
   "outputs": [],
   "source": [
    "#изучите датасеты и сформируйте рекомендации по улучшению бизнеса\n",
    "#все рекомендации отразите как ячейкой типа raw перед которым идет аналитический код с визуализацией и подтверждением вашей гипотезы\n",
    "#далее ваш код"
   ]
  },
  {
   "cell_type": "raw",
   "metadata": {
    "id": "lgsLyiOtacee"
   },
   "source": [
    "#далее ваши гипотезы"
   ]
  },
  {
   "cell_type": "raw",
   "metadata": {
    "id": "xZ1TKAaJacee"
   },
   "source": [
    "#гипотезы пример\n",
    "1 - отказы по статусу 9 (от системы) без времени до отказа. Т.е. либо какой-то сбой и время не пишется, либо этот отказ происходит до момента старта отсчета времени вообще. Соответственно, нужно проверить, точно ли все ок с статусом 9 в рамках технической реализации со стороны системы матчинга"
   ]
  },
  {
   "cell_type": "code",
   "execution_count": 11,
   "metadata": {
    "id": "jxTgHARjaceg",
    "scrolled": false
   },
   "outputs": [
    {
     "data": {
      "text/html": [
       "<div>\n",
       "<style scoped>\n",
       "    .dataframe tbody tr th:only-of-type {\n",
       "        vertical-align: middle;\n",
       "    }\n",
       "\n",
       "    .dataframe tbody tr th {\n",
       "        vertical-align: top;\n",
       "    }\n",
       "\n",
       "    .dataframe thead th {\n",
       "        text-align: right;\n",
       "    }\n",
       "</style>\n",
       "<table border=\"1\" class=\"dataframe\">\n",
       "  <thead>\n",
       "    <tr style=\"text-align: right;\">\n",
       "      <th></th>\n",
       "      <th>order_gk</th>\n",
       "      <th>offer_id</th>\n",
       "    </tr>\n",
       "  </thead>\n",
       "  <tbody>\n",
       "    <tr>\n",
       "      <th>0</th>\n",
       "      <td>3000579625629</td>\n",
       "      <td>300050936206</td>\n",
       "    </tr>\n",
       "    <tr>\n",
       "      <th>1</th>\n",
       "      <td>3000627306450</td>\n",
       "      <td>300052064651</td>\n",
       "    </tr>\n",
       "    <tr>\n",
       "      <th>2</th>\n",
       "      <td>3000632920686</td>\n",
       "      <td>300052408812</td>\n",
       "    </tr>\n",
       "    <tr>\n",
       "      <th>3</th>\n",
       "      <td>3000632771725</td>\n",
       "      <td>300052393030</td>\n",
       "    </tr>\n",
       "    <tr>\n",
       "      <th>4</th>\n",
       "      <td>3000583467642</td>\n",
       "      <td>300051001196</td>\n",
       "    </tr>\n",
       "    <tr>\n",
       "      <th>...</th>\n",
       "      <td>...</td>\n",
       "      <td>...</td>\n",
       "    </tr>\n",
       "    <tr>\n",
       "      <th>334358</th>\n",
       "      <td>3000552921666</td>\n",
       "      <td>300050611632</td>\n",
       "    </tr>\n",
       "    <tr>\n",
       "      <th>334359</th>\n",
       "      <td>3000593796526</td>\n",
       "      <td>300051443024</td>\n",
       "    </tr>\n",
       "    <tr>\n",
       "      <th>334360</th>\n",
       "      <td>3000590955748</td>\n",
       "      <td>300051340498</td>\n",
       "    </tr>\n",
       "    <tr>\n",
       "      <th>334361</th>\n",
       "      <td>3000557510943</td>\n",
       "      <td>300050772593</td>\n",
       "    </tr>\n",
       "    <tr>\n",
       "      <th>334362</th>\n",
       "      <td>3000630405861</td>\n",
       "      <td>300052291934</td>\n",
       "    </tr>\n",
       "  </tbody>\n",
       "</table>\n",
       "<p>334363 rows × 2 columns</p>\n",
       "</div>"
      ],
      "text/plain": [
       "             order_gk      offer_id\n",
       "0       3000579625629  300050936206\n",
       "1       3000627306450  300052064651\n",
       "2       3000632920686  300052408812\n",
       "3       3000632771725  300052393030\n",
       "4       3000583467642  300051001196\n",
       "...               ...           ...\n",
       "334358  3000552921666  300050611632\n",
       "334359  3000593796526  300051443024\n",
       "334360  3000590955748  300051340498\n",
       "334361  3000557510943  300050772593\n",
       "334362  3000630405861  300052291934\n",
       "\n",
       "[334363 rows x 2 columns]"
      ]
     },
     "execution_count": 11,
     "metadata": {},
     "output_type": "execute_result"
    }
   ],
   "source": [
    "#открываем файл data_offers и смотрим св-ва датасета\n",
    "#опишите свойства датасета\n",
    "df_offers = pd.read_csv('data_offers.csv')\n",
    "#далее ваш код\n",
    "df_offers"
   ]
  },
  {
   "cell_type": "markdown",
   "metadata": {},
   "source": [
    "Видим, что в этом датасете 334363 строк, что больше чем в 31 раз больше чем в первой таблице, видеимо много дубливакатов. Проверим..."
   ]
  },
  {
   "cell_type": "code",
   "execution_count": 12,
   "metadata": {
    "scrolled": true
   },
   "outputs": [
    {
     "data": {
      "text/html": [
       "<div>\n",
       "<style scoped>\n",
       "    .dataframe tbody tr th:only-of-type {\n",
       "        vertical-align: middle;\n",
       "    }\n",
       "\n",
       "    .dataframe tbody tr th {\n",
       "        vertical-align: top;\n",
       "    }\n",
       "\n",
       "    .dataframe thead th {\n",
       "        text-align: right;\n",
       "    }\n",
       "</style>\n",
       "<table border=\"1\" class=\"dataframe\">\n",
       "  <thead>\n",
       "    <tr style=\"text-align: right;\">\n",
       "      <th></th>\n",
       "      <th>order_gk</th>\n",
       "      <th>offer_id</th>\n",
       "    </tr>\n",
       "  </thead>\n",
       "  <tbody>\n",
       "    <tr>\n",
       "      <th>0</th>\n",
       "      <td>3000579625629</td>\n",
       "      <td>300050936206</td>\n",
       "    </tr>\n",
       "    <tr>\n",
       "      <th>1</th>\n",
       "      <td>3000627306450</td>\n",
       "      <td>300052064651</td>\n",
       "    </tr>\n",
       "    <tr>\n",
       "      <th>2</th>\n",
       "      <td>3000632920686</td>\n",
       "      <td>300052408812</td>\n",
       "    </tr>\n",
       "    <tr>\n",
       "      <th>3</th>\n",
       "      <td>3000632771725</td>\n",
       "      <td>300052393030</td>\n",
       "    </tr>\n",
       "    <tr>\n",
       "      <th>4</th>\n",
       "      <td>3000583467642</td>\n",
       "      <td>300051001196</td>\n",
       "    </tr>\n",
       "  </tbody>\n",
       "</table>\n",
       "</div>"
      ],
      "text/plain": [
       "        order_gk      offer_id\n",
       "0  3000579625629  300050936206\n",
       "1  3000627306450  300052064651\n",
       "2  3000632920686  300052408812\n",
       "3  3000632771725  300052393030\n",
       "4  3000583467642  300051001196"
      ]
     },
     "metadata": {},
     "output_type": "display_data"
    },
    {
     "name": "stdout",
     "output_type": "stream",
     "text": [
      "<class 'pandas.core.frame.DataFrame'>\n",
      "RangeIndex: 334363 entries, 0 to 334362\n",
      "Data columns (total 2 columns):\n",
      " #   Column    Non-Null Count   Dtype\n",
      "---  ------    --------------   -----\n",
      " 0   order_gk  334363 non-null  int64\n",
      " 1   offer_id  334363 non-null  int64\n",
      "dtypes: int64(2)\n",
      "memory usage: 5.1 MB\n",
      "Количество дубликатов - 0\n",
      "Количество NaN  -  order_gk    0\n",
      "offer_id    0\n",
      "dtype: int64\n",
      "Количество дубликатов в order_gk -  236396\n",
      "Количество NaN в offer_id 0\n",
      "Количество NaN в offer_id 0\n"
     ]
    },
    {
     "data": {
      "text/html": [
       "<div>\n",
       "<style scoped>\n",
       "    .dataframe tbody tr th:only-of-type {\n",
       "        vertical-align: middle;\n",
       "    }\n",
       "\n",
       "    .dataframe tbody tr th {\n",
       "        vertical-align: top;\n",
       "    }\n",
       "\n",
       "    .dataframe thead th {\n",
       "        text-align: right;\n",
       "    }\n",
       "</style>\n",
       "<table border=\"1\" class=\"dataframe\">\n",
       "  <thead>\n",
       "    <tr style=\"text-align: right;\">\n",
       "      <th></th>\n",
       "      <th>order_gk</th>\n",
       "      <th>offer_id</th>\n",
       "    </tr>\n",
       "  </thead>\n",
       "  <tbody>\n",
       "    <tr>\n",
       "      <th>count</th>\n",
       "      <td>3.343630e+05</td>\n",
       "      <td>3.343630e+05</td>\n",
       "    </tr>\n",
       "    <tr>\n",
       "      <th>mean</th>\n",
       "      <td>3.000602e+12</td>\n",
       "      <td>3.000515e+11</td>\n",
       "    </tr>\n",
       "    <tr>\n",
       "      <th>std</th>\n",
       "      <td>2.431638e+07</td>\n",
       "      <td>5.276821e+05</td>\n",
       "    </tr>\n",
       "    <tr>\n",
       "      <th>min</th>\n",
       "      <td>3.000551e+12</td>\n",
       "      <td>3.000506e+11</td>\n",
       "    </tr>\n",
       "    <tr>\n",
       "      <th>25%</th>\n",
       "      <td>3.000585e+12</td>\n",
       "      <td>3.000511e+11</td>\n",
       "    </tr>\n",
       "    <tr>\n",
       "      <th>50%</th>\n",
       "      <td>3.000596e+12</td>\n",
       "      <td>3.000516e+11</td>\n",
       "    </tr>\n",
       "    <tr>\n",
       "      <th>75%</th>\n",
       "      <td>3.000625e+12</td>\n",
       "      <td>3.000520e+11</td>\n",
       "    </tr>\n",
       "    <tr>\n",
       "      <th>max</th>\n",
       "      <td>3.000633e+12</td>\n",
       "      <td>3.000524e+11</td>\n",
       "    </tr>\n",
       "  </tbody>\n",
       "</table>\n",
       "</div>"
      ],
      "text/plain": [
       "           order_gk      offer_id\n",
       "count  3.343630e+05  3.343630e+05\n",
       "mean   3.000602e+12  3.000515e+11\n",
       "std    2.431638e+07  5.276821e+05\n",
       "min    3.000551e+12  3.000506e+11\n",
       "25%    3.000585e+12  3.000511e+11\n",
       "50%    3.000596e+12  3.000516e+11\n",
       "75%    3.000625e+12  3.000520e+11\n",
       "max    3.000633e+12  3.000524e+11"
      ]
     },
     "metadata": {},
     "output_type": "display_data"
    }
   ],
   "source": [
    "def inspect(df_offers):\n",
    "    display(df_offers.head()) \n",
    "    df_offers.info() \n",
    "    print ('Количество дубликатов -', df_offers.duplicated().sum())\n",
    "    print ('Количество NaN  - ', df_offers.isna().sum())\n",
    "    print ('Количество дубликатов в order_gk - ', df_offers['order_gk'].duplicated().sum())\n",
    "    print('Количество NaN в offer_id', df_offers['offer_id'].isna().sum())\n",
    "    print('Количество NaN в offer_id', df_offers['offer_id'].isna().sum())\n",
    "    numeric_columns=df_offers.describe().columns\n",
    "    display(df_offers.describe())\n",
    "    display()\n",
    "   \n",
    "    return df_offers\n",
    "df = inspect(df_offers)"
   ]
  },
  {
   "cell_type": "markdown",
   "metadata": {},
   "source": [
    "В таблице нет пропусков, однако дубликатов хоть отбавляй - 236 396. \n",
    "\n",
    "**Объеденим две таблицы, чтобы сопоставить данные.**"
   ]
  },
  {
   "cell_type": "code",
   "execution_count": 13,
   "metadata": {
    "scrolled": false
   },
   "outputs": [
    {
     "data": {
      "text/html": [
       "<div>\n",
       "<style scoped>\n",
       "    .dataframe tbody tr th:only-of-type {\n",
       "        vertical-align: middle;\n",
       "    }\n",
       "\n",
       "    .dataframe tbody tr th {\n",
       "        vertical-align: top;\n",
       "    }\n",
       "\n",
       "    .dataframe thead th {\n",
       "        text-align: right;\n",
       "    }\n",
       "</style>\n",
       "<table border=\"1\" class=\"dataframe\">\n",
       "  <thead>\n",
       "    <tr style=\"text-align: right;\">\n",
       "      <th></th>\n",
       "      <th>order_gk</th>\n",
       "      <th>offer_id</th>\n",
       "      <th>order_datetime</th>\n",
       "      <th>order_status_key</th>\n",
       "      <th>is_courier_assigned_key</th>\n",
       "      <th>cancellations_time_in_seconds</th>\n",
       "    </tr>\n",
       "  </thead>\n",
       "  <tbody>\n",
       "    <tr>\n",
       "      <th>0</th>\n",
       "      <td>3000583041974</td>\n",
       "      <td>3.000510e+11</td>\n",
       "      <td>2020-07-22 18:08:07</td>\n",
       "      <td>4</td>\n",
       "      <td>1</td>\n",
       "      <td>198.0</td>\n",
       "    </tr>\n",
       "    <tr>\n",
       "      <th>1</th>\n",
       "      <td>3000583116437</td>\n",
       "      <td>3.000510e+11</td>\n",
       "      <td>2020-07-22 20:57:32</td>\n",
       "      <td>4</td>\n",
       "      <td>0</td>\n",
       "      <td>128.0</td>\n",
       "    </tr>\n",
       "    <tr>\n",
       "      <th>2</th>\n",
       "      <td>3000583116437</td>\n",
       "      <td>3.000510e+11</td>\n",
       "      <td>2020-07-22 20:57:32</td>\n",
       "      <td>4</td>\n",
       "      <td>0</td>\n",
       "      <td>128.0</td>\n",
       "    </tr>\n",
       "    <tr>\n",
       "      <th>3</th>\n",
       "      <td>3000583116437</td>\n",
       "      <td>3.000510e+11</td>\n",
       "      <td>2020-07-22 20:57:32</td>\n",
       "      <td>4</td>\n",
       "      <td>0</td>\n",
       "      <td>128.0</td>\n",
       "    </tr>\n",
       "    <tr>\n",
       "      <th>4</th>\n",
       "      <td>3000582891479</td>\n",
       "      <td>3.000510e+11</td>\n",
       "      <td>2020-07-22 12:07:50</td>\n",
       "      <td>4</td>\n",
       "      <td>1</td>\n",
       "      <td>46.0</td>\n",
       "    </tr>\n",
       "    <tr>\n",
       "      <th>...</th>\n",
       "      <td>...</td>\n",
       "      <td>...</td>\n",
       "      <td>...</td>\n",
       "      <td>...</td>\n",
       "      <td>...</td>\n",
       "      <td>...</td>\n",
       "    </tr>\n",
       "    <tr>\n",
       "      <th>34369</th>\n",
       "      <td>3000599186906</td>\n",
       "      <td>3.000516e+11</td>\n",
       "      <td>2020-07-22 13:11:35</td>\n",
       "      <td>4</td>\n",
       "      <td>0</td>\n",
       "      <td>36.0</td>\n",
       "    </tr>\n",
       "    <tr>\n",
       "      <th>34370</th>\n",
       "      <td>3000599186962</td>\n",
       "      <td>NaN</td>\n",
       "      <td>2020-07-22 13:13:55</td>\n",
       "      <td>4</td>\n",
       "      <td>0</td>\n",
       "      <td>4.0</td>\n",
       "    </tr>\n",
       "    <tr>\n",
       "      <th>34371</th>\n",
       "      <td>3000599187034</td>\n",
       "      <td>3.000516e+11</td>\n",
       "      <td>2020-07-22 13:17:21</td>\n",
       "      <td>4</td>\n",
       "      <td>1</td>\n",
       "      <td>34.0</td>\n",
       "    </tr>\n",
       "    <tr>\n",
       "      <th>34372</th>\n",
       "      <td>3000599187024</td>\n",
       "      <td>NaN</td>\n",
       "      <td>2020-07-22 13:16:28</td>\n",
       "      <td>4</td>\n",
       "      <td>0</td>\n",
       "      <td>6.0</td>\n",
       "    </tr>\n",
       "    <tr>\n",
       "      <th>34373</th>\n",
       "      <td>3000592871241</td>\n",
       "      <td>3.000514e+11</td>\n",
       "      <td>2020-07-22 11:49:35</td>\n",
       "      <td>4</td>\n",
       "      <td>1</td>\n",
       "      <td>40.0</td>\n",
       "    </tr>\n",
       "  </tbody>\n",
       "</table>\n",
       "<p>34374 rows × 6 columns</p>\n",
       "</div>"
      ],
      "text/plain": [
       "            order_gk      offer_id      order_datetime  order_status_key  \\\n",
       "0      3000583041974  3.000510e+11 2020-07-22 18:08:07                 4   \n",
       "1      3000583116437  3.000510e+11 2020-07-22 20:57:32                 4   \n",
       "2      3000583116437  3.000510e+11 2020-07-22 20:57:32                 4   \n",
       "3      3000583116437  3.000510e+11 2020-07-22 20:57:32                 4   \n",
       "4      3000582891479  3.000510e+11 2020-07-22 12:07:50                 4   \n",
       "...              ...           ...                 ...               ...   \n",
       "34369  3000599186906  3.000516e+11 2020-07-22 13:11:35                 4   \n",
       "34370  3000599186962           NaN 2020-07-22 13:13:55                 4   \n",
       "34371  3000599187034  3.000516e+11 2020-07-22 13:17:21                 4   \n",
       "34372  3000599187024           NaN 2020-07-22 13:16:28                 4   \n",
       "34373  3000592871241  3.000514e+11 2020-07-22 11:49:35                 4   \n",
       "\n",
       "       is_courier_assigned_key  cancellations_time_in_seconds  \n",
       "0                            1                          198.0  \n",
       "1                            0                          128.0  \n",
       "2                            0                          128.0  \n",
       "3                            0                          128.0  \n",
       "4                            1                           46.0  \n",
       "...                        ...                            ...  \n",
       "34369                        0                           36.0  \n",
       "34370                        0                            4.0  \n",
       "34371                        1                           34.0  \n",
       "34372                        0                            6.0  \n",
       "34373                        1                           40.0  \n",
       "\n",
       "[34374 rows x 6 columns]"
      ]
     },
     "execution_count": 13,
     "metadata": {},
     "output_type": "execute_result"
    }
   ],
   "source": [
    "df = df_offers.merge(df_orders, on='order_gk', how='right')\n",
    "pd.set_option('display.max_columns', None)\n",
    "pd.set_option('max_colwidth', None)\n",
    "df"
   ]
  },
  {
   "cell_type": "markdown",
   "metadata": {},
   "source": [
    "Количество строк соответственно увеличилось, Взглянем на дубливаты теперь..."
   ]
  },
  {
   "cell_type": "code",
   "execution_count": 14,
   "metadata": {
    "scrolled": true
   },
   "outputs": [
    {
     "data": {
      "text/html": [
       "<div>\n",
       "<style scoped>\n",
       "    .dataframe tbody tr th:only-of-type {\n",
       "        vertical-align: middle;\n",
       "    }\n",
       "\n",
       "    .dataframe tbody tr th {\n",
       "        vertical-align: top;\n",
       "    }\n",
       "\n",
       "    .dataframe thead th {\n",
       "        text-align: right;\n",
       "    }\n",
       "</style>\n",
       "<table border=\"1\" class=\"dataframe\">\n",
       "  <thead>\n",
       "    <tr style=\"text-align: right;\">\n",
       "      <th></th>\n",
       "      <th>order_gk</th>\n",
       "      <th>offer_id</th>\n",
       "      <th>order_datetime</th>\n",
       "      <th>order_status_key</th>\n",
       "      <th>is_courier_assigned_key</th>\n",
       "      <th>cancellations_time_in_seconds</th>\n",
       "    </tr>\n",
       "  </thead>\n",
       "  <tbody>\n",
       "    <tr>\n",
       "      <th>2</th>\n",
       "      <td>3000583116437</td>\n",
       "      <td>3.000510e+11</td>\n",
       "      <td>2020-07-22 20:57:32</td>\n",
       "      <td>4</td>\n",
       "      <td>0</td>\n",
       "      <td>128.0</td>\n",
       "    </tr>\n",
       "    <tr>\n",
       "      <th>3</th>\n",
       "      <td>3000583116437</td>\n",
       "      <td>3.000510e+11</td>\n",
       "      <td>2020-07-22 20:57:32</td>\n",
       "      <td>4</td>\n",
       "      <td>0</td>\n",
       "      <td>128.0</td>\n",
       "    </tr>\n",
       "    <tr>\n",
       "      <th>5</th>\n",
       "      <td>3000582891479</td>\n",
       "      <td>3.000510e+11</td>\n",
       "      <td>2020-07-22 12:07:50</td>\n",
       "      <td>4</td>\n",
       "      <td>1</td>\n",
       "      <td>46.0</td>\n",
       "    </tr>\n",
       "    <tr>\n",
       "      <th>6</th>\n",
       "      <td>3000582891479</td>\n",
       "      <td>3.000510e+11</td>\n",
       "      <td>2020-07-22 12:07:50</td>\n",
       "      <td>4</td>\n",
       "      <td>1</td>\n",
       "      <td>46.0</td>\n",
       "    </tr>\n",
       "    <tr>\n",
       "      <th>7</th>\n",
       "      <td>3000582891479</td>\n",
       "      <td>3.000510e+11</td>\n",
       "      <td>2020-07-22 12:07:50</td>\n",
       "      <td>4</td>\n",
       "      <td>1</td>\n",
       "      <td>46.0</td>\n",
       "    </tr>\n",
       "    <tr>\n",
       "      <th>...</th>\n",
       "      <td>...</td>\n",
       "      <td>...</td>\n",
       "      <td>...</td>\n",
       "      <td>...</td>\n",
       "      <td>...</td>\n",
       "      <td>...</td>\n",
       "    </tr>\n",
       "    <tr>\n",
       "      <th>34355</th>\n",
       "      <td>3000589481691</td>\n",
       "      <td>3.000513e+11</td>\n",
       "      <td>2020-07-22 23:53:09</td>\n",
       "      <td>4</td>\n",
       "      <td>1</td>\n",
       "      <td>833.0</td>\n",
       "    </tr>\n",
       "    <tr>\n",
       "      <th>34357</th>\n",
       "      <td>3000627381658</td>\n",
       "      <td>3.000521e+11</td>\n",
       "      <td>2020-07-22 17:45:18</td>\n",
       "      <td>4</td>\n",
       "      <td>0</td>\n",
       "      <td>94.0</td>\n",
       "    </tr>\n",
       "    <tr>\n",
       "      <th>34358</th>\n",
       "      <td>3000627381658</td>\n",
       "      <td>3.000521e+11</td>\n",
       "      <td>2020-07-22 17:45:18</td>\n",
       "      <td>4</td>\n",
       "      <td>0</td>\n",
       "      <td>94.0</td>\n",
       "    </tr>\n",
       "    <tr>\n",
       "      <th>34359</th>\n",
       "      <td>3000627381658</td>\n",
       "      <td>3.000521e+11</td>\n",
       "      <td>2020-07-22 17:45:18</td>\n",
       "      <td>4</td>\n",
       "      <td>0</td>\n",
       "      <td>94.0</td>\n",
       "    </tr>\n",
       "    <tr>\n",
       "      <th>34360</th>\n",
       "      <td>3000627381658</td>\n",
       "      <td>3.000521e+11</td>\n",
       "      <td>2020-07-22 17:45:18</td>\n",
       "      <td>4</td>\n",
       "      <td>0</td>\n",
       "      <td>94.0</td>\n",
       "    </tr>\n",
       "  </tbody>\n",
       "</table>\n",
       "<p>23658 rows × 6 columns</p>\n",
       "</div>"
      ],
      "text/plain": [
       "            order_gk      offer_id      order_datetime  order_status_key  \\\n",
       "2      3000583116437  3.000510e+11 2020-07-22 20:57:32                 4   \n",
       "3      3000583116437  3.000510e+11 2020-07-22 20:57:32                 4   \n",
       "5      3000582891479  3.000510e+11 2020-07-22 12:07:50                 4   \n",
       "6      3000582891479  3.000510e+11 2020-07-22 12:07:50                 4   \n",
       "7      3000582891479  3.000510e+11 2020-07-22 12:07:50                 4   \n",
       "...              ...           ...                 ...               ...   \n",
       "34355  3000589481691  3.000513e+11 2020-07-22 23:53:09                 4   \n",
       "34357  3000627381658  3.000521e+11 2020-07-22 17:45:18                 4   \n",
       "34358  3000627381658  3.000521e+11 2020-07-22 17:45:18                 4   \n",
       "34359  3000627381658  3.000521e+11 2020-07-22 17:45:18                 4   \n",
       "34360  3000627381658  3.000521e+11 2020-07-22 17:45:18                 4   \n",
       "\n",
       "       is_courier_assigned_key  cancellations_time_in_seconds  \n",
       "2                            0                          128.0  \n",
       "3                            0                          128.0  \n",
       "5                            1                           46.0  \n",
       "6                            1                           46.0  \n",
       "7                            1                           46.0  \n",
       "...                        ...                            ...  \n",
       "34355                        1                          833.0  \n",
       "34357                        0                           94.0  \n",
       "34358                        0                           94.0  \n",
       "34359                        0                           94.0  \n",
       "34360                        0                           94.0  \n",
       "\n",
       "[23658 rows x 6 columns]"
      ]
     },
     "metadata": {},
     "output_type": "display_data"
    }
   ],
   "source": [
    "duplicateRows = df[df.duplicated(['order_gk'])]\n",
    "display(duplicateRows)"
   ]
  },
  {
   "cell_type": "markdown",
   "metadata": {},
   "source": [
    "такое ощущение, что все дубликаты заказов записаны в одно и тоже время -проверим..."
   ]
  },
  {
   "cell_type": "code",
   "execution_count": 15,
   "metadata": {},
   "outputs": [
    {
     "data": {
      "text/html": [
       "<div>\n",
       "<style scoped>\n",
       "    .dataframe tbody tr th:only-of-type {\n",
       "        vertical-align: middle;\n",
       "    }\n",
       "\n",
       "    .dataframe tbody tr th {\n",
       "        vertical-align: top;\n",
       "    }\n",
       "\n",
       "    .dataframe thead th {\n",
       "        text-align: right;\n",
       "    }\n",
       "</style>\n",
       "<table border=\"1\" class=\"dataframe\">\n",
       "  <thead>\n",
       "    <tr style=\"text-align: right;\">\n",
       "      <th></th>\n",
       "      <th>order_gk</th>\n",
       "      <th>offer_id</th>\n",
       "      <th>order_datetime</th>\n",
       "      <th>order_status_key</th>\n",
       "      <th>is_courier_assigned_key</th>\n",
       "      <th>cancellations_time_in_seconds</th>\n",
       "    </tr>\n",
       "  </thead>\n",
       "  <tbody>\n",
       "    <tr>\n",
       "      <th>2</th>\n",
       "      <td>3000583116437</td>\n",
       "      <td>3.000510e+11</td>\n",
       "      <td>2020-07-22 20:57:32</td>\n",
       "      <td>4</td>\n",
       "      <td>0</td>\n",
       "      <td>128.0</td>\n",
       "    </tr>\n",
       "    <tr>\n",
       "      <th>3</th>\n",
       "      <td>3000583116437</td>\n",
       "      <td>3.000510e+11</td>\n",
       "      <td>2020-07-22 20:57:32</td>\n",
       "      <td>4</td>\n",
       "      <td>0</td>\n",
       "      <td>128.0</td>\n",
       "    </tr>\n",
       "    <tr>\n",
       "      <th>5</th>\n",
       "      <td>3000582891479</td>\n",
       "      <td>3.000510e+11</td>\n",
       "      <td>2020-07-22 12:07:50</td>\n",
       "      <td>4</td>\n",
       "      <td>1</td>\n",
       "      <td>46.0</td>\n",
       "    </tr>\n",
       "    <tr>\n",
       "      <th>6</th>\n",
       "      <td>3000582891479</td>\n",
       "      <td>3.000510e+11</td>\n",
       "      <td>2020-07-22 12:07:50</td>\n",
       "      <td>4</td>\n",
       "      <td>1</td>\n",
       "      <td>46.0</td>\n",
       "    </tr>\n",
       "    <tr>\n",
       "      <th>7</th>\n",
       "      <td>3000582891479</td>\n",
       "      <td>3.000510e+11</td>\n",
       "      <td>2020-07-22 12:07:50</td>\n",
       "      <td>4</td>\n",
       "      <td>1</td>\n",
       "      <td>46.0</td>\n",
       "    </tr>\n",
       "    <tr>\n",
       "      <th>...</th>\n",
       "      <td>...</td>\n",
       "      <td>...</td>\n",
       "      <td>...</td>\n",
       "      <td>...</td>\n",
       "      <td>...</td>\n",
       "      <td>...</td>\n",
       "    </tr>\n",
       "    <tr>\n",
       "      <th>34355</th>\n",
       "      <td>3000589481691</td>\n",
       "      <td>3.000513e+11</td>\n",
       "      <td>2020-07-22 23:53:09</td>\n",
       "      <td>4</td>\n",
       "      <td>1</td>\n",
       "      <td>833.0</td>\n",
       "    </tr>\n",
       "    <tr>\n",
       "      <th>34357</th>\n",
       "      <td>3000627381658</td>\n",
       "      <td>3.000521e+11</td>\n",
       "      <td>2020-07-22 17:45:18</td>\n",
       "      <td>4</td>\n",
       "      <td>0</td>\n",
       "      <td>94.0</td>\n",
       "    </tr>\n",
       "    <tr>\n",
       "      <th>34358</th>\n",
       "      <td>3000627381658</td>\n",
       "      <td>3.000521e+11</td>\n",
       "      <td>2020-07-22 17:45:18</td>\n",
       "      <td>4</td>\n",
       "      <td>0</td>\n",
       "      <td>94.0</td>\n",
       "    </tr>\n",
       "    <tr>\n",
       "      <th>34359</th>\n",
       "      <td>3000627381658</td>\n",
       "      <td>3.000521e+11</td>\n",
       "      <td>2020-07-22 17:45:18</td>\n",
       "      <td>4</td>\n",
       "      <td>0</td>\n",
       "      <td>94.0</td>\n",
       "    </tr>\n",
       "    <tr>\n",
       "      <th>34360</th>\n",
       "      <td>3000627381658</td>\n",
       "      <td>3.000521e+11</td>\n",
       "      <td>2020-07-22 17:45:18</td>\n",
       "      <td>4</td>\n",
       "      <td>0</td>\n",
       "      <td>94.0</td>\n",
       "    </tr>\n",
       "  </tbody>\n",
       "</table>\n",
       "<p>23658 rows × 6 columns</p>\n",
       "</div>"
      ],
      "text/plain": [
       "            order_gk      offer_id      order_datetime  order_status_key  \\\n",
       "2      3000583116437  3.000510e+11 2020-07-22 20:57:32                 4   \n",
       "3      3000583116437  3.000510e+11 2020-07-22 20:57:32                 4   \n",
       "5      3000582891479  3.000510e+11 2020-07-22 12:07:50                 4   \n",
       "6      3000582891479  3.000510e+11 2020-07-22 12:07:50                 4   \n",
       "7      3000582891479  3.000510e+11 2020-07-22 12:07:50                 4   \n",
       "...              ...           ...                 ...               ...   \n",
       "34355  3000589481691  3.000513e+11 2020-07-22 23:53:09                 4   \n",
       "34357  3000627381658  3.000521e+11 2020-07-22 17:45:18                 4   \n",
       "34358  3000627381658  3.000521e+11 2020-07-22 17:45:18                 4   \n",
       "34359  3000627381658  3.000521e+11 2020-07-22 17:45:18                 4   \n",
       "34360  3000627381658  3.000521e+11 2020-07-22 17:45:18                 4   \n",
       "\n",
       "       is_courier_assigned_key  cancellations_time_in_seconds  \n",
       "2                            0                          128.0  \n",
       "3                            0                          128.0  \n",
       "5                            1                           46.0  \n",
       "6                            1                           46.0  \n",
       "7                            1                           46.0  \n",
       "...                        ...                            ...  \n",
       "34355                        1                          833.0  \n",
       "34357                        0                           94.0  \n",
       "34358                        0                           94.0  \n",
       "34359                        0                           94.0  \n",
       "34360                        0                           94.0  \n",
       "\n",
       "[23658 rows x 6 columns]"
      ]
     },
     "execution_count": 15,
     "metadata": {},
     "output_type": "execute_result"
    }
   ],
   "source": [
    "duplicated_rows=df[df.duplicated(['order_datetime', 'order_gk'])]\n",
    "duplicated_rows"
   ]
  },
  {
   "cell_type": "markdown",
   "metadata": {},
   "source": [
    "Тут мы видим, что данные  по заказам дублируются по всем строкам, однако эти заказы были предложены разным id-курьеров. А число строк совпадает с кодом выше - значит эти дубликаты полностью копируют-думаю можно их смело удалять. Какой-то сбой системы..."
   ]
  },
  {
   "cell_type": "code",
   "execution_count": 16,
   "metadata": {
    "scrolled": true
   },
   "outputs": [
    {
     "data": {
      "text/html": [
       "<div>\n",
       "<style scoped>\n",
       "    .dataframe tbody tr th:only-of-type {\n",
       "        vertical-align: middle;\n",
       "    }\n",
       "\n",
       "    .dataframe tbody tr th {\n",
       "        vertical-align: top;\n",
       "    }\n",
       "\n",
       "    .dataframe thead th {\n",
       "        text-align: right;\n",
       "    }\n",
       "</style>\n",
       "<table border=\"1\" class=\"dataframe\">\n",
       "  <thead>\n",
       "    <tr style=\"text-align: right;\">\n",
       "      <th></th>\n",
       "      <th>order_gk</th>\n",
       "      <th>offer_id</th>\n",
       "      <th>order_datetime</th>\n",
       "      <th>order_status_key</th>\n",
       "      <th>is_courier_assigned_key</th>\n",
       "      <th>cancellations_time_in_seconds</th>\n",
       "    </tr>\n",
       "  </thead>\n",
       "  <tbody>\n",
       "    <tr>\n",
       "      <th>0</th>\n",
       "      <td>3000583041974</td>\n",
       "      <td>3.000510e+11</td>\n",
       "      <td>2020-07-22 18:08:07</td>\n",
       "      <td>4</td>\n",
       "      <td>1</td>\n",
       "      <td>198.0</td>\n",
       "    </tr>\n",
       "    <tr>\n",
       "      <th>3</th>\n",
       "      <td>3000583116437</td>\n",
       "      <td>3.000510e+11</td>\n",
       "      <td>2020-07-22 20:57:32</td>\n",
       "      <td>4</td>\n",
       "      <td>0</td>\n",
       "      <td>128.0</td>\n",
       "    </tr>\n",
       "    <tr>\n",
       "      <th>9</th>\n",
       "      <td>3000582891479</td>\n",
       "      <td>3.000510e+11</td>\n",
       "      <td>2020-07-22 12:07:50</td>\n",
       "      <td>4</td>\n",
       "      <td>1</td>\n",
       "      <td>46.0</td>\n",
       "    </tr>\n",
       "    <tr>\n",
       "      <th>12</th>\n",
       "      <td>3000582941169</td>\n",
       "      <td>3.000510e+11</td>\n",
       "      <td>2020-07-22 13:50:20</td>\n",
       "      <td>4</td>\n",
       "      <td>1</td>\n",
       "      <td>62.0</td>\n",
       "    </tr>\n",
       "    <tr>\n",
       "      <th>13</th>\n",
       "      <td>3000583140877</td>\n",
       "      <td>NaN</td>\n",
       "      <td>2020-07-22 21:24:45</td>\n",
       "      <td>9</td>\n",
       "      <td>0</td>\n",
       "      <td>NaN</td>\n",
       "    </tr>\n",
       "    <tr>\n",
       "      <th>...</th>\n",
       "      <td>...</td>\n",
       "      <td>...</td>\n",
       "      <td>...</td>\n",
       "      <td>...</td>\n",
       "      <td>...</td>\n",
       "      <td>...</td>\n",
       "    </tr>\n",
       "    <tr>\n",
       "      <th>34369</th>\n",
       "      <td>3000599186906</td>\n",
       "      <td>3.000516e+11</td>\n",
       "      <td>2020-07-22 13:11:35</td>\n",
       "      <td>4</td>\n",
       "      <td>0</td>\n",
       "      <td>36.0</td>\n",
       "    </tr>\n",
       "    <tr>\n",
       "      <th>34370</th>\n",
       "      <td>3000599186962</td>\n",
       "      <td>NaN</td>\n",
       "      <td>2020-07-22 13:13:55</td>\n",
       "      <td>4</td>\n",
       "      <td>0</td>\n",
       "      <td>4.0</td>\n",
       "    </tr>\n",
       "    <tr>\n",
       "      <th>34371</th>\n",
       "      <td>3000599187034</td>\n",
       "      <td>3.000516e+11</td>\n",
       "      <td>2020-07-22 13:17:21</td>\n",
       "      <td>4</td>\n",
       "      <td>1</td>\n",
       "      <td>34.0</td>\n",
       "    </tr>\n",
       "    <tr>\n",
       "      <th>34372</th>\n",
       "      <td>3000599187024</td>\n",
       "      <td>NaN</td>\n",
       "      <td>2020-07-22 13:16:28</td>\n",
       "      <td>4</td>\n",
       "      <td>0</td>\n",
       "      <td>6.0</td>\n",
       "    </tr>\n",
       "    <tr>\n",
       "      <th>34373</th>\n",
       "      <td>3000592871241</td>\n",
       "      <td>3.000514e+11</td>\n",
       "      <td>2020-07-22 11:49:35</td>\n",
       "      <td>4</td>\n",
       "      <td>1</td>\n",
       "      <td>40.0</td>\n",
       "    </tr>\n",
       "  </tbody>\n",
       "</table>\n",
       "<p>10716 rows × 6 columns</p>\n",
       "</div>"
      ],
      "text/plain": [
       "            order_gk      offer_id      order_datetime  order_status_key  \\\n",
       "0      3000583041974  3.000510e+11 2020-07-22 18:08:07                 4   \n",
       "3      3000583116437  3.000510e+11 2020-07-22 20:57:32                 4   \n",
       "9      3000582891479  3.000510e+11 2020-07-22 12:07:50                 4   \n",
       "12     3000582941169  3.000510e+11 2020-07-22 13:50:20                 4   \n",
       "13     3000583140877           NaN 2020-07-22 21:24:45                 9   \n",
       "...              ...           ...                 ...               ...   \n",
       "34369  3000599186906  3.000516e+11 2020-07-22 13:11:35                 4   \n",
       "34370  3000599186962           NaN 2020-07-22 13:13:55                 4   \n",
       "34371  3000599187034  3.000516e+11 2020-07-22 13:17:21                 4   \n",
       "34372  3000599187024           NaN 2020-07-22 13:16:28                 4   \n",
       "34373  3000592871241  3.000514e+11 2020-07-22 11:49:35                 4   \n",
       "\n",
       "       is_courier_assigned_key  cancellations_time_in_seconds  \n",
       "0                            1                          198.0  \n",
       "3                            0                          128.0  \n",
       "9                            1                           46.0  \n",
       "12                           1                           62.0  \n",
       "13                           0                            NaN  \n",
       "...                        ...                            ...  \n",
       "34369                        0                           36.0  \n",
       "34370                        0                            4.0  \n",
       "34371                        1                           34.0  \n",
       "34372                        0                            6.0  \n",
       "34373                        1                           40.0  \n",
       "\n",
       "[10716 rows x 6 columns]"
      ]
     },
     "execution_count": 16,
     "metadata": {},
     "output_type": "execute_result"
    }
   ],
   "source": [
    "df=df.drop_duplicates(subset=['order_datetime', 'order_gk'], keep='last')\n",
    "df"
   ]
  },
  {
   "cell_type": "markdown",
   "metadata": {},
   "source": [
    "34374 строк после удаления дубликатов, стали -10716. На этом этапе не вижу смысла проверять какой процент данных было потеряно, ведь это один и тот же заказ(дубль)"
   ]
  },
  {
   "cell_type": "markdown",
   "metadata": {
    "id": "vRAVfq9zaceg"
   },
   "source": [
    "**Проверим есть или выбросы (аномалии) во времени до отмены заказов, используя \"ящик с усами\" из библиотеки Seaborn**\n"
   ]
  },
  {
   "cell_type": "code",
   "execution_count": 17,
   "metadata": {
    "scrolled": true
   },
   "outputs": [
    {
     "name": "stdout",
     "output_type": "stream",
     "text": [
      "Количество пропусков в столбце cancellations_time_in_seconds -  3409\n"
     ]
    },
    {
     "data": {
      "image/png": "[encoded data removed]",
      "text/plain": [
       "<Figure size 640x480 with 1 Axes>"
      ]
     },
     "metadata": {},
     "output_type": "display_data"
    }
   ],
   "source": [
    "sns.boxplot(x=df['cancellations_time_in_seconds']).set(title='Время до отмены заказов', \n",
    "                                                       xlabel='время отмены в секундах')\n",
    ";\n",
    "print('Количество пропусков в столбце cancellations_time_in_seconds - ', df['cancellations_time_in_seconds'].isnull().sum())"
   ]
  },
  {
   "cell_type": "markdown",
   "metadata": {},
   "source": [
    "Видим очень много выбросов и пропусков в данном столбце. \n",
    "Значения с пропусками заменим на среднее значение, а выбросы оценим в процентилях"
   ]
  },
  {
   "cell_type": "code",
   "execution_count": 18,
   "metadata": {},
   "outputs": [
    {
     "name": "stdout",
     "output_type": "stream",
     "text": [
      "95% процентов выборки лежит в значении до - 434.25\n",
      "5 %-ов информации будет удалено\n"
     ]
    }
   ],
   "source": [
    "a=df['cancellations_time_in_seconds'].fillna(df['cancellations_time_in_seconds'].mean())\n",
    "\n",
    "a=np.percentile(a,95)\n",
    "print('95% процентов выборки лежит в значении до -', a)\n",
    "\n",
    "b=df.query('cancellations_time_in_seconds>435') #Проверим сколько процентов от общего датасета мы потеряем, если удалим выбросы\n",
    "\n",
    "print(math.ceil((len(b)*100)/len(df)), '%-ов информации будет удалено') \n",
    "df['cancellations_time_in_seconds']=df['cancellations_time_in_seconds'].fillna(df['cancellations_time_in_seconds'].mean())\n",
    "df=df.query('cancellations_time_in_seconds<435')"
   ]
  },
  {
   "cell_type": "markdown",
   "metadata": {},
   "source": [
    "Время отмены заказов в основном не превышает 435минут, остальное-выбросы (5%). Учитывая, что 5% это немного, т.е. 95% информации более корректны, можем смело удалить выбросы."
   ]
  },
  {
   "cell_type": "markdown",
   "metadata": {},
   "source": [
    "## Анализ"
   ]
  },
  {
   "cell_type": "markdown",
   "metadata": {
    "id": "YXRkFbGhaceg"
   },
   "source": [
    "**1.** Для всех ли заказов нашлись офферы курьерам?"
   ]
  },
  {
   "cell_type": "code",
   "execution_count": 21,
   "metadata": {},
   "outputs": [],
   "source": [
    "gr_4=df.query('order_status_key==4')\n",
    "gr_9=df.query('order_status_key==9')"
   ]
  },
  {
   "cell_type": "code",
   "execution_count": 22,
   "metadata": {
    "id": "XLuwZncHaceg"
   },
   "outputs": [
    {
     "name": "stdout",
     "output_type": "stream",
     "text": [
      "Число заказов без номера оффера куреьеру- 2978\n",
      "Число заказов без номера оффера куреьеру в заказах отмененных клиентом- 1474\n",
      "Число заказов без номера оффера куреьеру в заказах отмененных системой- 1504\n"
     ]
    }
   ],
   "source": [
    "print('Число заказов без номера оффера куреьеру-',df['offer_id'].isnull().sum())\n",
    "print('Число заказов без номера оффера куреьеру в заказах отмененных клиентом-',gr_4['offer_id'].isnull().sum())\n",
    "print('Число заказов без номера оффера куреьеру в заказах отмененных системой-',gr_9['offer_id'].isnull().sum())"
   ]
  },
  {
   "cell_type": "markdown",
   "metadata": {
    "id": "6MLMEMXXaceg"
   },
   "source": [
    "Проверим, сколько заказов без номера оффера курьера были приняты курьером"
   ]
  },
  {
   "cell_type": "code",
   "execution_count": 23,
   "metadata": {
    "scrolled": false
   },
   "outputs": [
    {
     "name": "stdout",
     "output_type": "stream",
     "text": [
      "Число заказов без номера оффера куреьеру в заказах отмененных клиентом, но назначенным курьером- 377\n",
      "Число заказов без номера оффера куреьеру в заказах отмененных системой, но назначенным курьером- 1\n"
     ]
    }
   ],
   "source": [
    "gr_4=df.query('order_status_key==4')\n",
    "gr_9=df.query('order_status_key==9')\n",
    "\n",
    "null_courier_4=gr_4.query('is_courier_assigned_key==1').isnull().sum()\n",
    "null_courier_9=gr_9.query('is_courier_assigned_key==1').isnull().sum()\n",
    "print('Число заказов без номера оффера куреьеру в заказах отмененных клиентом, но назначенным курьером-',null_courier_4.offer_id)\n",
    "print('Число заказов без номера оффера куреьеру в заказах отмененных системой, но назначенным курьером-',null_courier_9.offer_id)"
   ]
  },
  {
   "cell_type": "markdown",
   "metadata": {},
   "source": [
    "В группе, где клиент отменил заказ, системой было назначено 377 курьеров, где нет данных о номере оффера курьера."
   ]
  },
  {
   "cell_type": "markdown",
   "metadata": {
    "id": "hF7F-kl0aceh"
   },
   "source": [
    "**2.** Если нашлись такие заказы, на которых не назначены курьеры, то чего больше - отмен клиентом или реджектов системы?"
   ]
  },
  {
   "cell_type": "code",
   "execution_count": 29,
   "metadata": {
    "id": "8Q_hQjUOaceh"
   },
   "outputs": [
    {
     "name": "stdout",
     "output_type": "stream",
     "text": [
      "order_gk                            0\n",
      "offer_id                         1097\n",
      "order_datetime                      0\n",
      "order_status_key                    0\n",
      "is_courier_assigned_key             0\n",
      "cancellations_time_in_seconds       0\n",
      "dtype: int64\n",
      "order_gk                            0\n",
      "offer_id                         1503\n",
      "order_datetime                      0\n",
      "order_status_key                    0\n",
      "is_courier_assigned_key             0\n",
      "cancellations_time_in_seconds       0\n",
      "dtype: int64\n"
     ]
    }
   ],
   "source": [
    "no_courier_4=gr_4.query('is_courier_assigned_key==0').isnull().sum()\n",
    "print(courier_4)\n",
    "no_courier_9=gr_9.query('is_courier_assigned_key==0').isnull().sum()\n",
    "print(courier_9)"
   ]
  },
  {
   "cell_type": "markdown",
   "metadata": {
    "id": "ORJ_Z29Faceh"
   },
   "source": [
    "Пользователи отменили 1097 заказов, где курьер принял оффер, но еще не был назначен системой.\n",
    "\n",
    "A система отменила 1503 заказов, где курьер принял оффер, но еще не был назначен системой."
   ]
  },
  {
   "cell_type": "code",
   "execution_count": 36,
   "metadata": {},
   "outputs": [
    {
     "data": {
      "text/plain": [
       "0.0008861320336730173"
      ]
     },
     "execution_count": 36,
     "metadata": {},
     "output_type": "execute_result"
    }
   ],
   "source": [
    "cancel_4=len(no_courier_4)/len(gr_4)\n",
    "cancel_4"
   ]
  },
  {
   "cell_type": "code",
   "execution_count": 37,
   "metadata": {},
   "outputs": [
    {
     "data": {
      "text/plain": [
       "0.0017600469345849222"
      ]
     },
     "execution_count": 37,
     "metadata": {},
     "output_type": "execute_result"
    }
   ],
   "source": [
    "cancel_9=len(no_courier_9)/len(gr_9)\n",
    "cancel_9"
   ]
  },
  {
   "cell_type": "markdown",
   "metadata": {
    "id": "HaWGcscPaceh"
   },
   "source": [
    "**3.** Какова доля заказов с назначенным курьером среди заказов, отмененных системой?"
   ]
  },
  {
   "cell_type": "code",
   "execution_count": 33,
   "metadata": {
    "scrolled": true
   },
   "outputs": [
    {
     "data": {
      "text/html": [
       "<div>\n",
       "<style scoped>\n",
       "    .dataframe tbody tr th:only-of-type {\n",
       "        vertical-align: middle;\n",
       "    }\n",
       "\n",
       "    .dataframe tbody tr th {\n",
       "        vertical-align: top;\n",
       "    }\n",
       "\n",
       "    .dataframe thead th {\n",
       "        text-align: right;\n",
       "    }\n",
       "</style>\n",
       "<table border=\"1\" class=\"dataframe\">\n",
       "  <thead>\n",
       "    <tr style=\"text-align: right;\">\n",
       "      <th></th>\n",
       "      <th>order_gk</th>\n",
       "      <th>offer_id</th>\n",
       "      <th>order_datetime</th>\n",
       "      <th>order_status_key</th>\n",
       "      <th>is_courier_assigned_key</th>\n",
       "      <th>cancellations_time_in_seconds</th>\n",
       "    </tr>\n",
       "  </thead>\n",
       "  <tbody>\n",
       "    <tr>\n",
       "      <th>0</th>\n",
       "      <td>3000583041974</td>\n",
       "      <td>3.000510e+11</td>\n",
       "      <td>2020-07-22 18:08:07</td>\n",
       "      <td>4</td>\n",
       "      <td>1</td>\n",
       "      <td>198.0</td>\n",
       "    </tr>\n",
       "    <tr>\n",
       "      <th>9</th>\n",
       "      <td>3000582891479</td>\n",
       "      <td>3.000510e+11</td>\n",
       "      <td>2020-07-22 12:07:50</td>\n",
       "      <td>4</td>\n",
       "      <td>1</td>\n",
       "      <td>46.0</td>\n",
       "    </tr>\n",
       "    <tr>\n",
       "      <th>12</th>\n",
       "      <td>3000582941169</td>\n",
       "      <td>3.000510e+11</td>\n",
       "      <td>2020-07-22 13:50:20</td>\n",
       "      <td>4</td>\n",
       "      <td>1</td>\n",
       "      <td>62.0</td>\n",
       "    </tr>\n",
       "    <tr>\n",
       "      <th>49</th>\n",
       "      <td>3000583016613</td>\n",
       "      <td>NaN</td>\n",
       "      <td>2020-07-22 16:55:28</td>\n",
       "      <td>4</td>\n",
       "      <td>1</td>\n",
       "      <td>188.0</td>\n",
       "    </tr>\n",
       "    <tr>\n",
       "      <th>52</th>\n",
       "      <td>3000582566041</td>\n",
       "      <td>3.000510e+11</td>\n",
       "      <td>2020-07-22 00:59:26</td>\n",
       "      <td>4</td>\n",
       "      <td>1</td>\n",
       "      <td>316.0</td>\n",
       "    </tr>\n",
       "    <tr>\n",
       "      <th>...</th>\n",
       "      <td>...</td>\n",
       "      <td>...</td>\n",
       "      <td>...</td>\n",
       "      <td>...</td>\n",
       "      <td>...</td>\n",
       "      <td>...</td>\n",
       "    </tr>\n",
       "    <tr>\n",
       "      <th>34341</th>\n",
       "      <td>3000629956882</td>\n",
       "      <td>3.000523e+11</td>\n",
       "      <td>2020-07-22 16:55:04</td>\n",
       "      <td>4</td>\n",
       "      <td>1</td>\n",
       "      <td>244.0</td>\n",
       "    </tr>\n",
       "    <tr>\n",
       "      <th>34361</th>\n",
       "      <td>3000599187005</td>\n",
       "      <td>3.000516e+11</td>\n",
       "      <td>2020-07-22 13:15:55</td>\n",
       "      <td>4</td>\n",
       "      <td>1</td>\n",
       "      <td>28.0</td>\n",
       "    </tr>\n",
       "    <tr>\n",
       "      <th>34362</th>\n",
       "      <td>3000599186936</td>\n",
       "      <td>3.000516e+11</td>\n",
       "      <td>2020-07-22 13:12:51</td>\n",
       "      <td>4</td>\n",
       "      <td>1</td>\n",
       "      <td>59.0</td>\n",
       "    </tr>\n",
       "    <tr>\n",
       "      <th>34371</th>\n",
       "      <td>3000599187034</td>\n",
       "      <td>3.000516e+11</td>\n",
       "      <td>2020-07-22 13:17:21</td>\n",
       "      <td>4</td>\n",
       "      <td>1</td>\n",
       "      <td>34.0</td>\n",
       "    </tr>\n",
       "    <tr>\n",
       "      <th>34373</th>\n",
       "      <td>3000592871241</td>\n",
       "      <td>3.000514e+11</td>\n",
       "      <td>2020-07-22 11:49:35</td>\n",
       "      <td>4</td>\n",
       "      <td>1</td>\n",
       "      <td>40.0</td>\n",
       "    </tr>\n",
       "  </tbody>\n",
       "</table>\n",
       "<p>2338 rows × 6 columns</p>\n",
       "</div>"
      ],
      "text/plain": [
       "            order_gk      offer_id      order_datetime  order_status_key  \\\n",
       "0      3000583041974  3.000510e+11 2020-07-22 18:08:07                 4   \n",
       "9      3000582891479  3.000510e+11 2020-07-22 12:07:50                 4   \n",
       "12     3000582941169  3.000510e+11 2020-07-22 13:50:20                 4   \n",
       "49     3000583016613           NaN 2020-07-22 16:55:28                 4   \n",
       "52     3000582566041  3.000510e+11 2020-07-22 00:59:26                 4   \n",
       "...              ...           ...                 ...               ...   \n",
       "34341  3000629956882  3.000523e+11 2020-07-22 16:55:04                 4   \n",
       "34361  3000599187005  3.000516e+11 2020-07-22 13:15:55                 4   \n",
       "34362  3000599186936  3.000516e+11 2020-07-22 13:12:51                 4   \n",
       "34371  3000599187034  3.000516e+11 2020-07-22 13:17:21                 4   \n",
       "34373  3000592871241  3.000514e+11 2020-07-22 11:49:35                 4   \n",
       "\n",
       "       is_courier_assigned_key  cancellations_time_in_seconds  \n",
       "0                            1                          198.0  \n",
       "9                            1                           46.0  \n",
       "12                           1                           62.0  \n",
       "49                           1                          188.0  \n",
       "52                           1                          316.0  \n",
       "...                        ...                            ...  \n",
       "34341                        1                          244.0  \n",
       "34361                        1                           28.0  \n",
       "34362                        1                           59.0  \n",
       "34371                        1                           34.0  \n",
       "34373                        1                           40.0  \n",
       "\n",
       "[2338 rows x 6 columns]"
      ]
     },
     "execution_count": 33,
     "metadata": {},
     "output_type": "execute_result"
    }
   ],
   "source": [
    "courier_4=gr_4.query('is_courier_assigned_key==1')\n",
    "courier_4"
   ]
  },
  {
   "cell_type": "code",
   "execution_count": 34,
   "metadata": {},
   "outputs": [
    {
     "data": {
      "text/plain": [
       "0.3452961157879191"
      ]
     },
     "execution_count": 34,
     "metadata": {},
     "output_type": "execute_result"
    }
   ],
   "source": [
    "cancel_4=len(courier_4)/len(gr_4)\n",
    "cancel_4"
   ]
  },
  {
   "cell_type": "code",
   "execution_count": 32,
   "metadata": {},
   "outputs": [
    {
     "data": {
      "text/html": [
       "<div>\n",
       "<style scoped>\n",
       "    .dataframe tbody tr th:only-of-type {\n",
       "        vertical-align: middle;\n",
       "    }\n",
       "\n",
       "    .dataframe tbody tr th {\n",
       "        vertical-align: top;\n",
       "    }\n",
       "\n",
       "    .dataframe thead th {\n",
       "        text-align: right;\n",
       "    }\n",
       "</style>\n",
       "<table border=\"1\" class=\"dataframe\">\n",
       "  <thead>\n",
       "    <tr style=\"text-align: right;\">\n",
       "      <th></th>\n",
       "      <th>order_gk</th>\n",
       "      <th>offer_id</th>\n",
       "      <th>order_datetime</th>\n",
       "      <th>order_status_key</th>\n",
       "      <th>is_courier_assigned_key</th>\n",
       "      <th>cancellations_time_in_seconds</th>\n",
       "    </tr>\n",
       "  </thead>\n",
       "  <tbody>\n",
       "    <tr>\n",
       "      <th>3965</th>\n",
       "      <td>3000631256425</td>\n",
       "      <td>NaN</td>\n",
       "      <td>2020-07-22 16:49:55</td>\n",
       "      <td>9</td>\n",
       "      <td>1</td>\n",
       "      <td>157.892021</td>\n",
       "    </tr>\n",
       "    <tr>\n",
       "      <th>22370</th>\n",
       "      <td>3000630156338</td>\n",
       "      <td>3.000523e+11</td>\n",
       "      <td>2020-07-22 00:44:03</td>\n",
       "      <td>9</td>\n",
       "      <td>1</td>\n",
       "      <td>157.892021</td>\n",
       "    </tr>\n",
       "    <tr>\n",
       "      <th>25938</th>\n",
       "      <td>3000600112433</td>\n",
       "      <td>3.000517e+11</td>\n",
       "      <td>2020-07-22 00:12:02</td>\n",
       "      <td>9</td>\n",
       "      <td>1</td>\n",
       "      <td>157.892021</td>\n",
       "    </tr>\n",
       "  </tbody>\n",
       "</table>\n",
       "</div>"
      ],
      "text/plain": [
       "            order_gk      offer_id      order_datetime  order_status_key  \\\n",
       "3965   3000631256425           NaN 2020-07-22 16:49:55                 9   \n",
       "22370  3000630156338  3.000523e+11 2020-07-22 00:44:03                 9   \n",
       "25938  3000600112433  3.000517e+11 2020-07-22 00:12:02                 9   \n",
       "\n",
       "       is_courier_assigned_key  cancellations_time_in_seconds  \n",
       "3965                         1                     157.892021  \n",
       "22370                        1                     157.892021  \n",
       "25938                        1                     157.892021  "
      ]
     },
     "execution_count": 32,
     "metadata": {},
     "output_type": "execute_result"
    }
   ],
   "source": [
    "courier_9=gr_9.query('is_courier_assigned_key==1')\n",
    "courier_9"
   ]
  },
  {
   "cell_type": "code",
   "execution_count": 35,
   "metadata": {},
   "outputs": [
    {
     "data": {
      "text/plain": [
       "0.0008800234672924611"
      ]
     },
     "execution_count": 35,
     "metadata": {},
     "output_type": "execute_result"
    }
   ],
   "source": [
    "cancel_9=len(courier_9)/len(gr_9)\n",
    "cancel_9"
   ]
  },
  {
   "cell_type": "markdown",
   "metadata": {
    "id": "vFuMsJ4Kaceh"
   },
   "source": [
    "Доля заказов отмененных пользователями и назначенными курьерами доминирует 34%"
   ]
  },
  {
   "cell_type": "markdown",
   "metadata": {
    "id": "NF5WepI1aceh"
   },
   "source": [
    "**4**. Получите среднее времени до отмены (cancellations_time_in_seconds) с назначенным курьером и без, по часам.  Можно ли сделать выводы по полученной таблице?\n",
    "Если необходимо - постройте график"
   ]
  },
  {
   "cell_type": "code",
   "execution_count": 59,
   "metadata": {
    "id": "PMk1QPfvacei",
    "scrolled": true
   },
   "outputs": [
    {
     "data": {
      "text/html": [
       "<div>\n",
       "<style scoped>\n",
       "    .dataframe tbody tr th:only-of-type {\n",
       "        vertical-align: middle;\n",
       "    }\n",
       "\n",
       "    .dataframe tbody tr th {\n",
       "        vertical-align: top;\n",
       "    }\n",
       "\n",
       "    .dataframe thead th {\n",
       "        text-align: right;\n",
       "    }\n",
       "</style>\n",
       "<table border=\"1\" class=\"dataframe\">\n",
       "  <thead>\n",
       "    <tr style=\"text-align: right;\">\n",
       "      <th></th>\n",
       "      <th>order_gk</th>\n",
       "      <th>offer_id</th>\n",
       "      <th>order_datetime</th>\n",
       "      <th>order_status_key</th>\n",
       "      <th>is_courier_assigned_key</th>\n",
       "      <th>cancellations_time_in_seconds</th>\n",
       "      <th>cancellation_hours</th>\n",
       "      <th>cancellation_min</th>\n",
       "    </tr>\n",
       "  </thead>\n",
       "  <tbody>\n",
       "    <tr>\n",
       "      <th>0</th>\n",
       "      <td>3000583041974</td>\n",
       "      <td>3.000510e+11</td>\n",
       "      <td>2020-07-22 18:08:07</td>\n",
       "      <td>4</td>\n",
       "      <td>1</td>\n",
       "      <td>198.000000</td>\n",
       "      <td>0.0</td>\n",
       "      <td>3.0</td>\n",
       "    </tr>\n",
       "    <tr>\n",
       "      <th>3</th>\n",
       "      <td>3000583116437</td>\n",
       "      <td>3.000510e+11</td>\n",
       "      <td>2020-07-22 20:57:32</td>\n",
       "      <td>4</td>\n",
       "      <td>0</td>\n",
       "      <td>128.000000</td>\n",
       "      <td>0.0</td>\n",
       "      <td>2.0</td>\n",
       "    </tr>\n",
       "    <tr>\n",
       "      <th>9</th>\n",
       "      <td>3000582891479</td>\n",
       "      <td>3.000510e+11</td>\n",
       "      <td>2020-07-22 12:07:50</td>\n",
       "      <td>4</td>\n",
       "      <td>1</td>\n",
       "      <td>46.000000</td>\n",
       "      <td>0.0</td>\n",
       "      <td>0.0</td>\n",
       "    </tr>\n",
       "    <tr>\n",
       "      <th>12</th>\n",
       "      <td>3000582941169</td>\n",
       "      <td>3.000510e+11</td>\n",
       "      <td>2020-07-22 13:50:20</td>\n",
       "      <td>4</td>\n",
       "      <td>1</td>\n",
       "      <td>62.000000</td>\n",
       "      <td>0.0</td>\n",
       "      <td>1.0</td>\n",
       "    </tr>\n",
       "    <tr>\n",
       "      <th>13</th>\n",
       "      <td>3000583140877</td>\n",
       "      <td>NaN</td>\n",
       "      <td>2020-07-22 21:24:45</td>\n",
       "      <td>9</td>\n",
       "      <td>0</td>\n",
       "      <td>157.892021</td>\n",
       "      <td>0.0</td>\n",
       "      <td>2.0</td>\n",
       "    </tr>\n",
       "    <tr>\n",
       "      <th>...</th>\n",
       "      <td>...</td>\n",
       "      <td>...</td>\n",
       "      <td>...</td>\n",
       "      <td>...</td>\n",
       "      <td>...</td>\n",
       "      <td>...</td>\n",
       "      <td>...</td>\n",
       "      <td>...</td>\n",
       "    </tr>\n",
       "    <tr>\n",
       "      <th>34369</th>\n",
       "      <td>3000599186906</td>\n",
       "      <td>3.000516e+11</td>\n",
       "      <td>2020-07-22 13:11:35</td>\n",
       "      <td>4</td>\n",
       "      <td>0</td>\n",
       "      <td>36.000000</td>\n",
       "      <td>0.0</td>\n",
       "      <td>0.0</td>\n",
       "    </tr>\n",
       "    <tr>\n",
       "      <th>34370</th>\n",
       "      <td>3000599186962</td>\n",
       "      <td>NaN</td>\n",
       "      <td>2020-07-22 13:13:55</td>\n",
       "      <td>4</td>\n",
       "      <td>0</td>\n",
       "      <td>4.000000</td>\n",
       "      <td>0.0</td>\n",
       "      <td>0.0</td>\n",
       "    </tr>\n",
       "    <tr>\n",
       "      <th>34371</th>\n",
       "      <td>3000599187034</td>\n",
       "      <td>3.000516e+11</td>\n",
       "      <td>2020-07-22 13:17:21</td>\n",
       "      <td>4</td>\n",
       "      <td>1</td>\n",
       "      <td>34.000000</td>\n",
       "      <td>0.0</td>\n",
       "      <td>0.0</td>\n",
       "    </tr>\n",
       "    <tr>\n",
       "      <th>34372</th>\n",
       "      <td>3000599187024</td>\n",
       "      <td>NaN</td>\n",
       "      <td>2020-07-22 13:16:28</td>\n",
       "      <td>4</td>\n",
       "      <td>0</td>\n",
       "      <td>6.000000</td>\n",
       "      <td>0.0</td>\n",
       "      <td>0.0</td>\n",
       "    </tr>\n",
       "    <tr>\n",
       "      <th>34373</th>\n",
       "      <td>3000592871241</td>\n",
       "      <td>3.000514e+11</td>\n",
       "      <td>2020-07-22 11:49:35</td>\n",
       "      <td>4</td>\n",
       "      <td>1</td>\n",
       "      <td>40.000000</td>\n",
       "      <td>0.0</td>\n",
       "      <td>0.0</td>\n",
       "    </tr>\n",
       "  </tbody>\n",
       "</table>\n",
       "<p>10180 rows × 8 columns</p>\n",
       "</div>"
      ],
      "text/plain": [
       "            order_gk      offer_id      order_datetime  order_status_key  \\\n",
       "0      3000583041974  3.000510e+11 2020-07-22 18:08:07                 4   \n",
       "3      3000583116437  3.000510e+11 2020-07-22 20:57:32                 4   \n",
       "9      3000582891479  3.000510e+11 2020-07-22 12:07:50                 4   \n",
       "12     3000582941169  3.000510e+11 2020-07-22 13:50:20                 4   \n",
       "13     3000583140877           NaN 2020-07-22 21:24:45                 9   \n",
       "...              ...           ...                 ...               ...   \n",
       "34369  3000599186906  3.000516e+11 2020-07-22 13:11:35                 4   \n",
       "34370  3000599186962           NaN 2020-07-22 13:13:55                 4   \n",
       "34371  3000599187034  3.000516e+11 2020-07-22 13:17:21                 4   \n",
       "34372  3000599187024           NaN 2020-07-22 13:16:28                 4   \n",
       "34373  3000592871241  3.000514e+11 2020-07-22 11:49:35                 4   \n",
       "\n",
       "       is_courier_assigned_key  cancellations_time_in_seconds  \\\n",
       "0                            1                     198.000000   \n",
       "3                            0                     128.000000   \n",
       "9                            1                      46.000000   \n",
       "12                           1                      62.000000   \n",
       "13                           0                     157.892021   \n",
       "...                        ...                            ...   \n",
       "34369                        0                      36.000000   \n",
       "34370                        0                       4.000000   \n",
       "34371                        1                      34.000000   \n",
       "34372                        0                       6.000000   \n",
       "34373                        1                      40.000000   \n",
       "\n",
       "       cancellation_hours  cancellation_min  \n",
       "0                     0.0               3.0  \n",
       "3                     0.0               2.0  \n",
       "9                     0.0               0.0  \n",
       "12                    0.0               1.0  \n",
       "13                    0.0               2.0  \n",
       "...                   ...               ...  \n",
       "34369                 0.0               0.0  \n",
       "34370                 0.0               0.0  \n",
       "34371                 0.0               0.0  \n",
       "34372                 0.0               0.0  \n",
       "34373                 0.0               0.0  \n",
       "\n",
       "[10180 rows x 8 columns]"
      ]
     },
     "execution_count": 59,
     "metadata": {},
     "output_type": "execute_result"
    }
   ],
   "source": [
    "df['cancellation_hours']=(df['cancellations_time_in_seconds']//3600)\n",
    "df['cancellation_min']=(df['cancellations_time_in_seconds']//60)#далее ваш код\n",
    "df\n"
   ]
  },
  {
   "cell_type": "code",
   "execution_count": 67,
   "metadata": {
    "scrolled": true
   },
   "outputs": [
    {
     "name": "stdout",
     "output_type": "stream",
     "text": [
      "среднее времени до отмены без назначения курьера в группе клиентской отмены 1.2384389803744642\n",
      "среднее времени до отмены без назначения курьера в группе системной отмены 2.0\n",
      "среднее времени до отмены с назначением курьера в группе клиентской отмены 1.6826347305389222\n",
      "среднее времени до отмены с назначением курьера в группе системной отмены 2.0\n"
     ]
    }
   ],
   "source": [
    "gr_4=df.query('order_status_key==4')\n",
    "gr_9=df.query('order_status_key==9')\n",
    "no_courier_4=gr_4.query('is_courier_assigned_key==0')\n",
    "no_courier_9=gr_9.query('is_courier_assigned_key==0')\n",
    "courier_4=gr_4.query('is_courier_assigned_key==1')\n",
    "courier_9=gr_9.query('is_courier_assigned_key==1')\n",
    "\n",
    "print('среднее времени до отмены без назначения курьера в группе клиентской отмены', no_courier_4['cancellation_min'].mean())\n",
    "print('среднее времени до отмены без назначения курьера в группе системной отмены', no_courier_9['cancellation_min'].mean())\n",
    "print('среднее времени до отмены с назначением курьера в группе клиентской отмены', courier_4['cancellation_min'].mean())\n",
    "print('среднее времени до отмены с назначением курьера в группе системной отмены', courier_9['cancellation_min'].mean())"
   ]
  },
  {
   "cell_type": "markdown",
   "metadata": {
    "id": "3kRNgAZ7acei"
   },
   "source": [
    "так как значения в столбце времени отмены мы взяли среднее по таблице, то на нее не смотрим, и видим, что среднее время до отмены с назначением курьера в группе клиентской отмены немного больше, чем без курьера"
   ]
  },
  {
   "cell_type": "markdown",
   "metadata": {
    "id": "qWIDEWhFacei"
   },
   "source": [
    "**5.** Постройте график распределения фейлов по часам - наблюдается ли тендеция, что в какие то часы доля той или иной категории аномально высока?\n",
    "Примеры возможных категорий:\n",
    "\n",
    "* заказы с назначенным курьером / заказы без назначенного курьера;\n",
    "* заказы, отмененные системой / заказы, отменные пользователем."
   ]
  },
  {
   "cell_type": "code",
   "execution_count": 28,
   "metadata": {
    "id": "ErdzlgeVacei"
   },
   "outputs": [],
   "source": [
    "#далее ваш код"
   ]
  },
  {
   "cell_type": "raw",
   "metadata": {
    "id": "V3IEJXtcacei"
   },
   "source": [
    "#далее ваши гипотезы"
   ]
  }
 ],
 "metadata": {
  "colab": {
   "provenance": []
  },
  "hide_input": false,
  "kernelspec": {
   "display_name": "Python 3 (ipykernel)",
   "language": "python",
   "name": "python3"
  },
  "language_info": {
   "codemirror_mode": {
    "name": "ipython",
    "version": 3
   },
   "file_extension": ".py",
   "mimetype": "text/x-python",
   "name": "python",
   "nbconvert_exporter": "python",
   "pygments_lexer": "ipython3",
   "version": "3.11.4"
  },
  "toc": {
   "base_numbering": 1,
   "nav_menu": {},
   "number_sections": true,
   "sideBar": true,
   "skip_h1_title": false,
   "title_cell": "Table of Contents",
   "title_sidebar": "Contents",
   "toc_cell": false,
   "toc_position": {},
   "toc_section_display": true,
   "toc_window_display": true
  },
  "varInspector": {
   "cols": {
    "lenName": 16,
    "lenType": 16,
    "lenVar": 40
   },
   "kernels_config": {
    "python": {
     "delete_cmd_postfix": "",
     "delete_cmd_prefix": "del ",
     "library": "var_list.py",
     "varRefreshCmd": "print(var_dic_list())"
    },
    "r": {
     "delete_cmd_postfix": ") ",
     "delete_cmd_prefix": "rm(",
     "library": "var_list.r",
     "varRefreshCmd": "cat(var_dic_list()) "
    }
   },
   "types_to_exclude": [
    "module",
    "function",
    "builtin_function_or_method",
    "instance",
    "_Feature"
   ],
   "window_display": false
  }
 },
 "nbformat": 4,
 "nbformat_minor": 1
}
